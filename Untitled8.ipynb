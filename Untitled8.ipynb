{
 "cells": [
  {
   "cell_type": "code",
   "execution_count": 1,
   "metadata": {},
   "outputs": [],
   "source": [
    "import numpy as np\n",
    "import pandas as pd\n"
   ]
  },
  {
   "cell_type": "code",
   "execution_count": 2,
   "metadata": {},
   "outputs": [
    {
     "data": {
      "text/html": [
       "<div>\n",
       "<style scoped>\n",
       "    .dataframe tbody tr th:only-of-type {\n",
       "        vertical-align: middle;\n",
       "    }\n",
       "\n",
       "    .dataframe tbody tr th {\n",
       "        vertical-align: top;\n",
       "    }\n",
       "\n",
       "    .dataframe thead th {\n",
       "        text-align: right;\n",
       "    }\n",
       "</style>\n",
       "<table border=\"1\" class=\"dataframe\">\n",
       "  <thead>\n",
       "    <tr style=\"text-align: right;\">\n",
       "      <th></th>\n",
       "      <th>VendorID</th>\n",
       "      <th>pickup_day</th>\n",
       "      <th>pickup_time</th>\n",
       "      <th>minute_pickup</th>\n",
       "      <th>dropoff_day</th>\n",
       "      <th>dropoff_time</th>\n",
       "      <th>minute_dropoff</th>\n",
       "      <th>trip_duration</th>\n",
       "      <th>passenger_count</th>\n",
       "      <th>trip_distance</th>\n",
       "      <th>...</th>\n",
       "      <th>PULocationID</th>\n",
       "      <th>DOLocationID</th>\n",
       "      <th>payment_type</th>\n",
       "      <th>fare_amount</th>\n",
       "      <th>extra</th>\n",
       "      <th>mta_tax</th>\n",
       "      <th>tip_amount</th>\n",
       "      <th>tolls_amount</th>\n",
       "      <th>improvement_surcharge</th>\n",
       "      <th>total_amount</th>\n",
       "    </tr>\n",
       "  </thead>\n",
       "  <tbody>\n",
       "    <tr>\n",
       "      <th>0</th>\n",
       "      <td>1</td>\n",
       "      <td>1</td>\n",
       "      <td>00:15:40</td>\n",
       "      <td>15.67</td>\n",
       "      <td>1</td>\n",
       "      <td>00:16:46</td>\n",
       "      <td>16.77</td>\n",
       "      <td>1.10</td>\n",
       "      <td>1</td>\n",
       "      <td>0.0</td>\n",
       "      <td>...</td>\n",
       "      <td>145</td>\n",
       "      <td>145</td>\n",
       "      <td>2</td>\n",
       "      <td>3.0</td>\n",
       "      <td>0.5</td>\n",
       "      <td>0.5</td>\n",
       "      <td>0.00</td>\n",
       "      <td>0.0</td>\n",
       "      <td>0.3</td>\n",
       "      <td>4.30</td>\n",
       "    </tr>\n",
       "    <tr>\n",
       "      <th>1</th>\n",
       "      <td>1</td>\n",
       "      <td>1</td>\n",
       "      <td>00:04:18</td>\n",
       "      <td>4.30</td>\n",
       "      <td>1</td>\n",
       "      <td>00:09:18</td>\n",
       "      <td>9.30</td>\n",
       "      <td>5.00</td>\n",
       "      <td>1</td>\n",
       "      <td>1.0</td>\n",
       "      <td>...</td>\n",
       "      <td>230</td>\n",
       "      <td>161</td>\n",
       "      <td>1</td>\n",
       "      <td>5.5</td>\n",
       "      <td>0.5</td>\n",
       "      <td>0.5</td>\n",
       "      <td>1.35</td>\n",
       "      <td>0.0</td>\n",
       "      <td>0.3</td>\n",
       "      <td>8.15</td>\n",
       "    </tr>\n",
       "    <tr>\n",
       "      <th>2</th>\n",
       "      <td>1</td>\n",
       "      <td>1</td>\n",
       "      <td>00:14:39</td>\n",
       "      <td>14.65</td>\n",
       "      <td>1</td>\n",
       "      <td>00:29:46</td>\n",
       "      <td>29.77</td>\n",
       "      <td>15.12</td>\n",
       "      <td>1</td>\n",
       "      <td>3.3</td>\n",
       "      <td>...</td>\n",
       "      <td>100</td>\n",
       "      <td>263</td>\n",
       "      <td>2</td>\n",
       "      <td>13.0</td>\n",
       "      <td>0.5</td>\n",
       "      <td>0.5</td>\n",
       "      <td>0.00</td>\n",
       "      <td>0.0</td>\n",
       "      <td>0.3</td>\n",
       "      <td>14.30</td>\n",
       "    </tr>\n",
       "    <tr>\n",
       "      <th>3</th>\n",
       "      <td>1</td>\n",
       "      <td>1</td>\n",
       "      <td>00:51:25</td>\n",
       "      <td>51.42</td>\n",
       "      <td>1</td>\n",
       "      <td>00:51:29</td>\n",
       "      <td>51.48</td>\n",
       "      <td>0.06</td>\n",
       "      <td>3</td>\n",
       "      <td>0.0</td>\n",
       "      <td>...</td>\n",
       "      <td>145</td>\n",
       "      <td>145</td>\n",
       "      <td>2</td>\n",
       "      <td>2.5</td>\n",
       "      <td>0.5</td>\n",
       "      <td>0.5</td>\n",
       "      <td>0.00</td>\n",
       "      <td>0.0</td>\n",
       "      <td>0.3</td>\n",
       "      <td>3.80</td>\n",
       "    </tr>\n",
       "    <tr>\n",
       "      <th>4</th>\n",
       "      <td>1</td>\n",
       "      <td>1</td>\n",
       "      <td>00:55:06</td>\n",
       "      <td>55.10</td>\n",
       "      <td>1</td>\n",
       "      <td>00:55:10</td>\n",
       "      <td>55.17</td>\n",
       "      <td>0.07</td>\n",
       "      <td>1</td>\n",
       "      <td>0.0</td>\n",
       "      <td>...</td>\n",
       "      <td>145</td>\n",
       "      <td>145</td>\n",
       "      <td>2</td>\n",
       "      <td>2.5</td>\n",
       "      <td>0.5</td>\n",
       "      <td>0.5</td>\n",
       "      <td>0.00</td>\n",
       "      <td>0.0</td>\n",
       "      <td>0.3</td>\n",
       "      <td>3.80</td>\n",
       "    </tr>\n",
       "  </tbody>\n",
       "</table>\n",
       "<p>5 rows × 22 columns</p>\n",
       "</div>"
      ],
      "text/plain": [
       "   VendorID  pickup_day pickup_time  minute_pickup  dropoff_day dropoff_time  \\\n",
       "0         1           1    00:15:40          15.67            1     00:16:46   \n",
       "1         1           1    00:04:18           4.30            1     00:09:18   \n",
       "2         1           1    00:14:39          14.65            1     00:29:46   \n",
       "3         1           1    00:51:25          51.42            1     00:51:29   \n",
       "4         1           1    00:55:06          55.10            1     00:55:10   \n",
       "\n",
       "   minute_dropoff  trip_duration  passenger_count  trip_distance  \\\n",
       "0           16.77           1.10                1            0.0   \n",
       "1            9.30           5.00                1            1.0   \n",
       "2           29.77          15.12                1            3.3   \n",
       "3           51.48           0.06                3            0.0   \n",
       "4           55.17           0.07                1            0.0   \n",
       "\n",
       "       ...       PULocationID DOLocationID  payment_type  fare_amount  extra  \\\n",
       "0      ...                145          145             2          3.0    0.5   \n",
       "1      ...                230          161             1          5.5    0.5   \n",
       "2      ...                100          263             2         13.0    0.5   \n",
       "3      ...                145          145             2          2.5    0.5   \n",
       "4      ...                145          145             2          2.5    0.5   \n",
       "\n",
       "   mta_tax  tip_amount  tolls_amount  improvement_surcharge  total_amount  \n",
       "0      0.5        0.00           0.0                    0.3          4.30  \n",
       "1      0.5        1.35           0.0                    0.3          8.15  \n",
       "2      0.5        0.00           0.0                    0.3         14.30  \n",
       "3      0.5        0.00           0.0                    0.3          3.80  \n",
       "4      0.5        0.00           0.0                    0.3          3.80  \n",
       "\n",
       "[5 rows x 22 columns]"
      ]
     },
     "execution_count": 2,
     "metadata": {},
     "output_type": "execute_result"
    }
   ],
   "source": [
    "data=pd.read_csv('tripdata.csv', na_values= '---')\n",
    "data.dropna(how='all')\n",
    "data.head()"
   ]
  },
  {
   "cell_type": "code",
   "execution_count": 4,
   "metadata": {},
   "outputs": [
    {
     "data": {
      "text/html": [
       "<div>\n",
       "<style scoped>\n",
       "    .dataframe tbody tr th:only-of-type {\n",
       "        vertical-align: middle;\n",
       "    }\n",
       "\n",
       "    .dataframe tbody tr th {\n",
       "        vertical-align: top;\n",
       "    }\n",
       "\n",
       "    .dataframe thead th {\n",
       "        text-align: right;\n",
       "    }\n",
       "</style>\n",
       "<table border=\"1\" class=\"dataframe\">\n",
       "  <thead>\n",
       "    <tr style=\"text-align: right;\">\n",
       "      <th></th>\n",
       "      <th>VendorID</th>\n",
       "      <th>pickup_day</th>\n",
       "      <th>minute_pickup</th>\n",
       "      <th>trip_duration</th>\n",
       "      <th>passenger_count</th>\n",
       "      <th>trip_distance</th>\n",
       "      <th>PULocationID</th>\n",
       "      <th>DOLocationID</th>\n",
       "      <th>payment_type</th>\n",
       "      <th>tip_amount</th>\n",
       "      <th>tolls_amount</th>\n",
       "    </tr>\n",
       "  </thead>\n",
       "  <tbody>\n",
       "    <tr>\n",
       "      <th>0</th>\n",
       "      <td>1</td>\n",
       "      <td>1</td>\n",
       "      <td>15.67</td>\n",
       "      <td>1.10</td>\n",
       "      <td>1</td>\n",
       "      <td>0.0</td>\n",
       "      <td>145</td>\n",
       "      <td>145</td>\n",
       "      <td>2</td>\n",
       "      <td>0.00</td>\n",
       "      <td>0.0</td>\n",
       "    </tr>\n",
       "    <tr>\n",
       "      <th>1</th>\n",
       "      <td>1</td>\n",
       "      <td>1</td>\n",
       "      <td>4.30</td>\n",
       "      <td>5.00</td>\n",
       "      <td>1</td>\n",
       "      <td>1.0</td>\n",
       "      <td>230</td>\n",
       "      <td>161</td>\n",
       "      <td>1</td>\n",
       "      <td>1.35</td>\n",
       "      <td>0.0</td>\n",
       "    </tr>\n",
       "    <tr>\n",
       "      <th>2</th>\n",
       "      <td>1</td>\n",
       "      <td>1</td>\n",
       "      <td>14.65</td>\n",
       "      <td>15.12</td>\n",
       "      <td>1</td>\n",
       "      <td>3.3</td>\n",
       "      <td>100</td>\n",
       "      <td>263</td>\n",
       "      <td>2</td>\n",
       "      <td>0.00</td>\n",
       "      <td>0.0</td>\n",
       "    </tr>\n",
       "    <tr>\n",
       "      <th>3</th>\n",
       "      <td>1</td>\n",
       "      <td>1</td>\n",
       "      <td>51.42</td>\n",
       "      <td>0.06</td>\n",
       "      <td>3</td>\n",
       "      <td>0.0</td>\n",
       "      <td>145</td>\n",
       "      <td>145</td>\n",
       "      <td>2</td>\n",
       "      <td>0.00</td>\n",
       "      <td>0.0</td>\n",
       "    </tr>\n",
       "    <tr>\n",
       "      <th>4</th>\n",
       "      <td>1</td>\n",
       "      <td>1</td>\n",
       "      <td>55.10</td>\n",
       "      <td>0.07</td>\n",
       "      <td>1</td>\n",
       "      <td>0.0</td>\n",
       "      <td>145</td>\n",
       "      <td>145</td>\n",
       "      <td>2</td>\n",
       "      <td>0.00</td>\n",
       "      <td>0.0</td>\n",
       "    </tr>\n",
       "  </tbody>\n",
       "</table>\n",
       "</div>"
      ],
      "text/plain": [
       "   VendorID  pickup_day  minute_pickup  trip_duration  passenger_count  \\\n",
       "0         1           1          15.67           1.10                1   \n",
       "1         1           1           4.30           5.00                1   \n",
       "2         1           1          14.65          15.12                1   \n",
       "3         1           1          51.42           0.06                3   \n",
       "4         1           1          55.10           0.07                1   \n",
       "\n",
       "   trip_distance  PULocationID  DOLocationID  payment_type  tip_amount  \\\n",
       "0            0.0           145           145             2        0.00   \n",
       "1            1.0           230           161             1        1.35   \n",
       "2            3.3           100           263             2        0.00   \n",
       "3            0.0           145           145             2        0.00   \n",
       "4            0.0           145           145             2        0.00   \n",
       "\n",
       "   tolls_amount  \n",
       "0           0.0  \n",
       "1           0.0  \n",
       "2           0.0  \n",
       "3           0.0  \n",
       "4           0.0  "
      ]
     },
     "execution_count": 4,
     "metadata": {},
     "output_type": "execute_result"
    }
   ],
   "source": [
    "x= data.drop(['total_amount','fare_amount', 'pickup_time', 'dropoff_time','store_and_fwd_flag', 'mta_tax', 'improvement_surcharge', 'extra','RatecodeID','minute_dropoff','dropoff_day'], axis=1)\n",
    "x.head()"
   ]
  },
  {
   "cell_type": "code",
   "execution_count": 7,
   "metadata": {},
   "outputs": [],
   "source": [
    "from sklearn.decomposition import PCA\n",
    "from sklearn.preprocessing import StandardScaler"
   ]
  },
  {
   "cell_type": "code",
   "execution_count": 8,
   "metadata": {},
   "outputs": [],
   "source": [
    "pca=PCA()\n",
    "sc=StandardScaler()"
   ]
  },
  {
   "cell_type": "code",
   "execution_count": 11,
   "metadata": {},
   "outputs": [],
   "source": [
    "X=sc.fit_transform(x)\n",
    "X=sc.transform(x)"
   ]
  },
  {
   "cell_type": "code",
   "execution_count": 12,
   "metadata": {},
   "outputs": [],
   "source": [
    "X1=pca.fit_transform(X)"
   ]
  },
  {
   "cell_type": "code",
   "execution_count": 13,
   "metadata": {},
   "outputs": [],
   "source": [
    "X1=pca.transform(X)"
   ]
  },
  {
   "cell_type": "code",
   "execution_count": 14,
   "metadata": {},
   "outputs": [
    {
     "name": "stdout",
     "output_type": "stream",
     "text": [
      "[0.19548491 0.11253581 0.11226302 0.10582509 0.09495049 0.0917884\n",
      " 0.08079846 0.06953222 0.06933613 0.03962039 0.02786509]\n"
     ]
    }
   ],
   "source": [
    "explained_variance = pca.explained_variance_ratio_\n",
    "print(explained_variance)"
   ]
  },
  {
   "cell_type": "code",
   "execution_count": 15,
   "metadata": {},
   "outputs": [
    {
     "name": "stdout",
     "output_type": "stream",
     "text": [
      "[1501.59392436 1139.30830274 1137.92657878 1104.81664241 1046.51264864\n",
      " 1028.93935187  965.37808133  895.54816508  894.28442945  676.01329528\n",
      "  566.92563882]\n"
     ]
    }
   ],
   "source": [
    "print(pca.singular_values_)"
   ]
  },
  {
   "cell_type": "code",
   "execution_count": 16,
   "metadata": {},
   "outputs": [
    {
     "data": {
      "text/plain": [
       "array([[ 1.06021372e+00, -7.52706782e-03,  1.16560088e-03,\n",
       "         3.79157253e-03, -2.48072822e-01, -3.29233287e-02,\n",
       "         1.64207618e-02,  9.59087305e-03,  3.74165223e-02,\n",
       "         2.20767695e-02, -5.87526615e-04],\n",
       "       [-7.52706782e-03,  1.02895888e+00,  1.70817686e-01,\n",
       "         3.87381783e-02,  2.81896166e-03, -2.16466574e-02,\n",
       "        -7.44162249e-03, -5.90611458e-03, -8.55661687e-03,\n",
       "         1.08450699e-03, -1.66366487e-02],\n",
       "       [ 1.16560088e-03,  1.70817686e-01,  1.05726223e+00,\n",
       "         1.69915095e-01, -1.27936377e-02,  4.03424485e-02,\n",
       "        -3.23300917e-02, -2.62870232e-02, -2.24187278e-02,\n",
       "        -3.64735099e-02, -2.31809013e-02],\n",
       "       [ 3.79157253e-03,  3.87381783e-02,  1.69915095e-01,\n",
       "         1.02843985e+00,  1.50243068e-03,  2.33501402e-02,\n",
       "        -1.54778533e-02, -1.29246461e-02, -1.15881570e-02,\n",
       "        -8.50947991e-03, -3.67115736e-02],\n",
       "       [-2.48072822e-01,  2.81896166e-03, -1.27936377e-02,\n",
       "         1.50243068e-03,  1.05854752e+00, -1.00229350e-02,\n",
       "        -4.86121945e-04,  1.75576473e-03, -9.45773486e-03,\n",
       "         7.89336090e-03, -3.66493491e-03],\n",
       "       [-3.29233287e-02, -2.16466574e-02,  4.03424485e-02,\n",
       "         2.33501402e-02, -1.00229350e-02,  1.91924408e+00,\n",
       "         8.50892058e-02,  8.97170544e-02, -3.27446745e-01,\n",
       "        -8.50111198e-01, -7.77346078e-01],\n",
       "       [ 1.64207618e-02, -7.44162249e-03, -3.23300917e-02,\n",
       "        -1.54778533e-02, -4.86121945e-04,  8.50892058e-02,\n",
       "         1.01990398e+00, -1.04498569e-01,  1.93755801e-02,\n",
       "        -9.86428743e-04, -1.58429634e-02],\n",
       "       [ 9.59087305e-03, -5.90611458e-03, -2.62870232e-02,\n",
       "        -1.29246461e-02,  1.75576473e-03,  8.97170544e-02,\n",
       "        -1.04498569e-01,  1.02114432e+00,  2.53141309e-02,\n",
       "         3.72386838e-03, -8.53503836e-03],\n",
       "       [ 3.74165223e-02, -8.55661687e-03, -2.24187278e-02,\n",
       "        -1.15881570e-02, -9.45773486e-03, -3.27446745e-01,\n",
       "         1.93755801e-02,  2.53141309e-02,  1.39499634e+00,\n",
       "         8.85753765e-01, -1.28581291e-01],\n",
       "       [ 2.20767695e-02,  1.08450699e-03, -3.64735099e-02,\n",
       "        -8.50947991e-03,  7.89336090e-03, -8.50111198e-01,\n",
       "        -9.86428743e-04,  3.72386838e-03,  8.85753765e-01,\n",
       "         2.00968972e+00, -3.20236815e-01],\n",
       "       [-5.87526615e-04, -1.66366487e-02, -2.31809013e-02,\n",
       "        -3.67115736e-02, -3.66493491e-03, -7.77346078e-01,\n",
       "        -1.58429634e-02, -8.53503836e-03, -1.28581291e-01,\n",
       "        -3.20236815e-01,  1.59183150e+00]])"
      ]
     },
     "execution_count": 16,
     "metadata": {},
     "output_type": "execute_result"
    }
   ],
   "source": [
    "pca.get_precision()"
   ]
  },
  {
   "cell_type": "code",
   "execution_count": 17,
   "metadata": {},
   "outputs": [],
   "source": [
    "X2=pca.inverse_transform(X1)"
   ]
  },
  {
   "cell_type": "code",
   "execution_count": 18,
   "metadata": {},
   "outputs": [],
   "source": [
    "X3=sc.inverse_transform(X2)"
   ]
  },
  {
   "cell_type": "code",
   "execution_count": 20,
   "metadata": {},
   "outputs": [
    {
     "data": {
      "text/plain": [
       "numpy.ndarray"
      ]
     },
     "execution_count": 20,
     "metadata": {},
     "output_type": "execute_result"
    }
   ],
   "source": [
    "type(X3)"
   ]
  },
  {
   "cell_type": "code",
   "execution_count": 25,
   "metadata": {},
   "outputs": [
    {
     "data": {
      "text/plain": [
       "Index(['VendorID', 'pickup_day', 'pickup_time', 'minute_pickup', 'dropoff_day',\n",
       "       'dropoff_time', 'minute_dropoff', 'trip_duration', 'passenger_count',\n",
       "       'trip_distance', 'RatecodeID', 'store_and_fwd_flag', 'PULocationID',\n",
       "       'DOLocationID', 'payment_type', 'fare_amount', 'extra', 'mta_tax',\n",
       "       'tip_amount', 'tolls_amount', 'improvement_surcharge', 'total_amount'],\n",
       "      dtype='object')"
      ]
     },
     "execution_count": 25,
     "metadata": {},
     "output_type": "execute_result"
    }
   ],
   "source": [
    "data.keys()"
   ]
  },
  {
   "cell_type": "code",
   "execution_count": 26,
   "metadata": {},
   "outputs": [
    {
     "data": {
      "text/html": [
       "<div>\n",
       "<style scoped>\n",
       "    .dataframe tbody tr th:only-of-type {\n",
       "        vertical-align: middle;\n",
       "    }\n",
       "\n",
       "    .dataframe tbody tr th {\n",
       "        vertical-align: top;\n",
       "    }\n",
       "\n",
       "    .dataframe thead th {\n",
       "        text-align: right;\n",
       "    }\n",
       "</style>\n",
       "<table border=\"1\" class=\"dataframe\">\n",
       "  <thead>\n",
       "    <tr style=\"text-align: right;\">\n",
       "      <th></th>\n",
       "      <th>VendorID</th>\n",
       "      <th>pickup_day</th>\n",
       "      <th>minute_pickup</th>\n",
       "      <th>trip_duration</th>\n",
       "      <th>passenger_count</th>\n",
       "      <th>trip_distance</th>\n",
       "      <th>PULocationID</th>\n",
       "      <th>DOLocationID</th>\n",
       "      <th>payment_type</th>\n",
       "      <th>tip_amount</th>\n",
       "      <th>tolls_amount</th>\n",
       "    </tr>\n",
       "  </thead>\n",
       "  <tbody>\n",
       "    <tr>\n",
       "      <th>0</th>\n",
       "      <td>1.0</td>\n",
       "      <td>1.0</td>\n",
       "      <td>15.67</td>\n",
       "      <td>1.10</td>\n",
       "      <td>1.0</td>\n",
       "      <td>-4.440892e-15</td>\n",
       "      <td>145.0</td>\n",
       "      <td>145.0</td>\n",
       "      <td>2.0</td>\n",
       "      <td>1.332268e-15</td>\n",
       "      <td>-1.387779e-15</td>\n",
       "    </tr>\n",
       "    <tr>\n",
       "      <th>1</th>\n",
       "      <td>1.0</td>\n",
       "      <td>1.0</td>\n",
       "      <td>4.30</td>\n",
       "      <td>5.00</td>\n",
       "      <td>1.0</td>\n",
       "      <td>1.000000e+00</td>\n",
       "      <td>230.0</td>\n",
       "      <td>161.0</td>\n",
       "      <td>1.0</td>\n",
       "      <td>1.350000e+00</td>\n",
       "      <td>-1.776357e-15</td>\n",
       "    </tr>\n",
       "    <tr>\n",
       "      <th>2</th>\n",
       "      <td>1.0</td>\n",
       "      <td>1.0</td>\n",
       "      <td>14.65</td>\n",
       "      <td>15.12</td>\n",
       "      <td>1.0</td>\n",
       "      <td>3.300000e+00</td>\n",
       "      <td>100.0</td>\n",
       "      <td>263.0</td>\n",
       "      <td>2.0</td>\n",
       "      <td>-4.440892e-16</td>\n",
       "      <td>-1.776357e-15</td>\n",
       "    </tr>\n",
       "    <tr>\n",
       "      <th>3</th>\n",
       "      <td>1.0</td>\n",
       "      <td>1.0</td>\n",
       "      <td>51.42</td>\n",
       "      <td>0.06</td>\n",
       "      <td>3.0</td>\n",
       "      <td>-4.884981e-15</td>\n",
       "      <td>145.0</td>\n",
       "      <td>145.0</td>\n",
       "      <td>2.0</td>\n",
       "      <td>-1.110223e-15</td>\n",
       "      <td>-1.054712e-15</td>\n",
       "    </tr>\n",
       "    <tr>\n",
       "      <th>4</th>\n",
       "      <td>1.0</td>\n",
       "      <td>1.0</td>\n",
       "      <td>55.10</td>\n",
       "      <td>0.07</td>\n",
       "      <td>1.0</td>\n",
       "      <td>-4.440892e-15</td>\n",
       "      <td>145.0</td>\n",
       "      <td>145.0</td>\n",
       "      <td>2.0</td>\n",
       "      <td>4.440892e-16</td>\n",
       "      <td>-1.332268e-15</td>\n",
       "    </tr>\n",
       "  </tbody>\n",
       "</table>\n",
       "</div>"
      ],
      "text/plain": [
       "   VendorID  pickup_day  minute_pickup  trip_duration  passenger_count  \\\n",
       "0       1.0         1.0          15.67           1.10              1.0   \n",
       "1       1.0         1.0           4.30           5.00              1.0   \n",
       "2       1.0         1.0          14.65          15.12              1.0   \n",
       "3       1.0         1.0          51.42           0.06              3.0   \n",
       "4       1.0         1.0          55.10           0.07              1.0   \n",
       "\n",
       "   trip_distance  PULocationID  DOLocationID  payment_type    tip_amount  \\\n",
       "0  -4.440892e-15         145.0         145.0           2.0  1.332268e-15   \n",
       "1   1.000000e+00         230.0         161.0           1.0  1.350000e+00   \n",
       "2   3.300000e+00         100.0         263.0           2.0 -4.440892e-16   \n",
       "3  -4.884981e-15         145.0         145.0           2.0 -1.110223e-15   \n",
       "4  -4.440892e-15         145.0         145.0           2.0  4.440892e-16   \n",
       "\n",
       "   tolls_amount  \n",
       "0 -1.387779e-15  \n",
       "1 -1.776357e-15  \n",
       "2 -1.776357e-15  \n",
       "3 -1.054712e-15  \n",
       "4 -1.332268e-15  "
      ]
     },
     "execution_count": 26,
     "metadata": {},
     "output_type": "execute_result"
    }
   ],
   "source": [
    "data2=pd.DataFrame(X3, columns=['VendorID', 'pickup_day', 'minute_pickup', 'trip_duration', 'passenger_count',\n",
    "       'trip_distance', 'PULocationID',\n",
    "       'DOLocationID', 'payment_type',\n",
    "       'tip_amount', 'tolls_amount'])\n",
    "data2.head()"
   ]
  },
  {
   "cell_type": "code",
   "execution_count": 28,
   "metadata": {},
   "outputs": [],
   "source": [
    "from sklearn.metrics import mean_squared_error\n",
    "from sklearn.metrics import r2_score\n",
    "from sklearn import linear_model"
   ]
  },
  {
   "cell_type": "code",
   "execution_count": 29,
   "metadata": {},
   "outputs": [],
   "source": [
    "model = linear_model.LinearRegression()\n",
    "x=data2\n",
    "y=data.fare_amount\n",
    "model.fit(x,y)\n",
    "y_hat = model.predict(x)"
   ]
  },
  {
   "cell_type": "code",
   "execution_count": 30,
   "metadata": {},
   "outputs": [
    {
     "name": "stdout",
     "output_type": "stream",
     "text": [
      "Coefficients: [ 1.95699081e-02 -5.34952668e-02  4.37792524e-04  7.81099716e-04\n",
      " -8.76420985e-03  2.41960630e+00  6.58325560e-04 -5.38849875e-04\n",
      "  1.32329331e+00  6.72711936e-01  3.52036601e-01]\n",
      "Intercept: 2.5172362308433733\n",
      "MSE: 83.38930694643416\n",
      "R^2: 0.28139870314791615\n"
     ]
    }
   ],
   "source": [
    "print (\"Coefficients:\", model.coef_)\n",
    "print (\"Intercept:\", model.intercept_)\n",
    "print (\"MSE:\", mean_squared_error(y_hat, y))\n",
    "print (\"R^2:\", r2_score(y_hat, y))"
   ]
  },
  {
   "cell_type": "code",
   "execution_count": 7,
   "metadata": {},
   "outputs": [],
   "source": [
    "import statsmodels.formula.api as smf"
   ]
  },
  {
   "cell_type": "code",
   "execution_count": 9,
   "metadata": {},
   "outputs": [
    {
     "name": "stdout",
     "output_type": "stream",
     "text": [
      "                            OLS Regression Results                            \n",
      "==============================================================================\n",
      "Dep. Variable:            fare_amount   R-squared:                       0.579\n",
      "Model:                            OLS   Adj. R-squared:                  0.579\n",
      "Method:                 Least Squares   F-statistic:                 2.061e+05\n",
      "Date:                Mon, 03 Dec 2018   Prob (F-statistic):               0.00\n",
      "Time:                        13:31:30   Log-Likelihood:            -3.8106e+06\n",
      "No. Observations:             1048574   AIC:                         7.621e+06\n",
      "Df Residuals:                 1048566   BIC:                         7.621e+06\n",
      "Df Model:                           7                                         \n",
      "Covariance Type:            nonrobust                                         \n",
      "=================================================================================\n",
      "                    coef    std err          t      P>|t|      [0.025      0.975]\n",
      "---------------------------------------------------------------------------------\n",
      "Intercept         4.1700      0.047     89.237      0.000       4.078       4.262\n",
      "minute_pickup     0.0005   2.39e-05     20.423      0.000       0.000       0.001\n",
      "pickup_day       -0.0441      0.008     -5.549      0.000      -0.060      -0.029\n",
      "PULocationID      0.0005      0.000      4.032      0.000       0.000       0.001\n",
      "tip_amount        0.5506      0.004    134.608      0.000       0.543       0.559\n",
      "VendorID         -0.0193      0.018     -1.066      0.286      -0.055       0.016\n",
      "trip_duration     0.0009   6.43e-05     14.359      0.000       0.001       0.001\n",
      "trip_distance     2.5431      0.003    929.281      0.000       2.538       2.548\n",
      "=================================================================================\n",
      "Omnibus:                  6808877.352   Durbin-Watson:                      1.979\n",
      "Prob(Omnibus):                  0.000   Jarque-Bera (JB):   10506330327711578.000\n",
      "Skew:                         576.556   Prob(JB):                            0.00\n",
      "Kurtosis:                  490380.351   Cond. No.                        4.85e+03\n",
      "=================================================================================\n",
      "\n",
      "Warnings:\n",
      "[1] Standard Errors assume that the covariance matrix of the errors is correctly specified.\n",
      "[2] The condition number is large, 4.85e+03. This might indicate that there are\n",
      "strong multicollinearity or other numerical problems.\n"
     ]
    }
   ],
   "source": [
    "reg='fare_amount~ minute_pickup+pickup_day+PULocationID+tip_amount+VendorID+trip_duration+trip_distance'\n",
    "model=smf.ols(formula= reg, data=data)\n",
    "model.fit()\n",
    "print(model.fit().summary())"
   ]
  },
  {
   "cell_type": "code",
   "execution_count": null,
   "metadata": {},
   "outputs": [],
   "source": []
  }
 ],
 "metadata": {
  "kernelspec": {
   "display_name": "Python 3",
   "language": "python",
   "name": "python3"
  },
  "language_info": {
   "codemirror_mode": {
    "name": "ipython",
    "version": 3
   },
   "file_extension": ".py",
   "mimetype": "text/x-python",
   "name": "python",
   "nbconvert_exporter": "python",
   "pygments_lexer": "ipython3",
   "version": "3.6.5"
  }
 },
 "nbformat": 4,
 "nbformat_minor": 2
}
