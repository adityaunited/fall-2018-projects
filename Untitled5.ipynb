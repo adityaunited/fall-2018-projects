{
 "cells": [
  {
   "cell_type": "code",
   "execution_count": 1,
   "metadata": {},
   "outputs": [
    {
     "name": "stderr",
     "output_type": "stream",
     "text": [
      "C:\\jupyter\\lib\\site-packages\\sklearn\\cross_validation.py:41: DeprecationWarning: This module was deprecated in version 0.18 in favor of the model_selection module into which all the refactored classes and functions are moved. Also note that the interface of the new CV iterators are different from that of this module. This module will be removed in 0.20.\n",
      "  \"This module will be removed in 0.20.\", DeprecationWarning)\n"
     ]
    }
   ],
   "source": [
    "import numpy as np\n",
    "import pandas as pd\n",
    "import seaborn as sns\n",
    "import statsmodels.formula.api as smf\n",
    "from sklearn.cross_validation import train_test_split\n",
    "from sklearn import linear_model\n",
    "import datetime as dt\n",
    "from sklearn.ensemble import BaggingClassifier, RandomForestClassifier, BaggingRegressor, RandomForestRegressor, GradientBoostingRegressor"
   ]
  },
  {
   "cell_type": "code",
   "execution_count": 3,
   "metadata": {
    "scrolled": true
   },
   "outputs": [
    {
     "data": {
      "text/html": [
       "<div>\n",
       "<style scoped>\n",
       "    .dataframe tbody tr th:only-of-type {\n",
       "        vertical-align: middle;\n",
       "    }\n",
       "\n",
       "    .dataframe tbody tr th {\n",
       "        vertical-align: top;\n",
       "    }\n",
       "\n",
       "    .dataframe thead th {\n",
       "        text-align: right;\n",
       "    }\n",
       "</style>\n",
       "<table border=\"1\" class=\"dataframe\">\n",
       "  <thead>\n",
       "    <tr style=\"text-align: right;\">\n",
       "      <th></th>\n",
       "      <th>VendorID</th>\n",
       "      <th>pickup_day</th>\n",
       "      <th>pickup_time</th>\n",
       "      <th>minute_pickup</th>\n",
       "      <th>dropoff_day</th>\n",
       "      <th>dropoff_time</th>\n",
       "      <th>minute_dropoff</th>\n",
       "      <th>trip_duration</th>\n",
       "      <th>passenger_count</th>\n",
       "      <th>trip_distance</th>\n",
       "      <th>...</th>\n",
       "      <th>PULocationID</th>\n",
       "      <th>DOLocationID</th>\n",
       "      <th>payment_type</th>\n",
       "      <th>fare_amount</th>\n",
       "      <th>extra</th>\n",
       "      <th>mta_tax</th>\n",
       "      <th>tip_amount</th>\n",
       "      <th>tolls_amount</th>\n",
       "      <th>improvement_surcharge</th>\n",
       "      <th>total_amount</th>\n",
       "    </tr>\n",
       "  </thead>\n",
       "  <tbody>\n",
       "    <tr>\n",
       "      <th>0</th>\n",
       "      <td>1</td>\n",
       "      <td>1</td>\n",
       "      <td>00:15:40</td>\n",
       "      <td>15.67</td>\n",
       "      <td>1</td>\n",
       "      <td>00:16:46</td>\n",
       "      <td>16.77</td>\n",
       "      <td>1.10</td>\n",
       "      <td>1</td>\n",
       "      <td>0.0</td>\n",
       "      <td>...</td>\n",
       "      <td>145</td>\n",
       "      <td>145</td>\n",
       "      <td>2</td>\n",
       "      <td>3.0</td>\n",
       "      <td>0.5</td>\n",
       "      <td>0.5</td>\n",
       "      <td>0.00</td>\n",
       "      <td>0.0</td>\n",
       "      <td>0.3</td>\n",
       "      <td>4.30</td>\n",
       "    </tr>\n",
       "    <tr>\n",
       "      <th>1</th>\n",
       "      <td>1</td>\n",
       "      <td>1</td>\n",
       "      <td>00:04:18</td>\n",
       "      <td>4.30</td>\n",
       "      <td>1</td>\n",
       "      <td>00:09:18</td>\n",
       "      <td>9.30</td>\n",
       "      <td>5.00</td>\n",
       "      <td>1</td>\n",
       "      <td>1.0</td>\n",
       "      <td>...</td>\n",
       "      <td>230</td>\n",
       "      <td>161</td>\n",
       "      <td>1</td>\n",
       "      <td>5.5</td>\n",
       "      <td>0.5</td>\n",
       "      <td>0.5</td>\n",
       "      <td>1.35</td>\n",
       "      <td>0.0</td>\n",
       "      <td>0.3</td>\n",
       "      <td>8.15</td>\n",
       "    </tr>\n",
       "    <tr>\n",
       "      <th>2</th>\n",
       "      <td>1</td>\n",
       "      <td>1</td>\n",
       "      <td>00:14:39</td>\n",
       "      <td>14.65</td>\n",
       "      <td>1</td>\n",
       "      <td>00:29:46</td>\n",
       "      <td>29.77</td>\n",
       "      <td>15.12</td>\n",
       "      <td>1</td>\n",
       "      <td>3.3</td>\n",
       "      <td>...</td>\n",
       "      <td>100</td>\n",
       "      <td>263</td>\n",
       "      <td>2</td>\n",
       "      <td>13.0</td>\n",
       "      <td>0.5</td>\n",
       "      <td>0.5</td>\n",
       "      <td>0.00</td>\n",
       "      <td>0.0</td>\n",
       "      <td>0.3</td>\n",
       "      <td>14.30</td>\n",
       "    </tr>\n",
       "    <tr>\n",
       "      <th>3</th>\n",
       "      <td>1</td>\n",
       "      <td>1</td>\n",
       "      <td>00:51:25</td>\n",
       "      <td>51.42</td>\n",
       "      <td>1</td>\n",
       "      <td>00:51:29</td>\n",
       "      <td>51.48</td>\n",
       "      <td>0.06</td>\n",
       "      <td>3</td>\n",
       "      <td>0.0</td>\n",
       "      <td>...</td>\n",
       "      <td>145</td>\n",
       "      <td>145</td>\n",
       "      <td>2</td>\n",
       "      <td>2.5</td>\n",
       "      <td>0.5</td>\n",
       "      <td>0.5</td>\n",
       "      <td>0.00</td>\n",
       "      <td>0.0</td>\n",
       "      <td>0.3</td>\n",
       "      <td>3.80</td>\n",
       "    </tr>\n",
       "    <tr>\n",
       "      <th>4</th>\n",
       "      <td>1</td>\n",
       "      <td>1</td>\n",
       "      <td>00:55:06</td>\n",
       "      <td>55.10</td>\n",
       "      <td>1</td>\n",
       "      <td>00:55:10</td>\n",
       "      <td>55.17</td>\n",
       "      <td>0.07</td>\n",
       "      <td>1</td>\n",
       "      <td>0.0</td>\n",
       "      <td>...</td>\n",
       "      <td>145</td>\n",
       "      <td>145</td>\n",
       "      <td>2</td>\n",
       "      <td>2.5</td>\n",
       "      <td>0.5</td>\n",
       "      <td>0.5</td>\n",
       "      <td>0.00</td>\n",
       "      <td>0.0</td>\n",
       "      <td>0.3</td>\n",
       "      <td>3.80</td>\n",
       "    </tr>\n",
       "  </tbody>\n",
       "</table>\n",
       "<p>5 rows × 22 columns</p>\n",
       "</div>"
      ],
      "text/plain": [
       "   VendorID  pickup_day pickup_time  minute_pickup  dropoff_day dropoff_time  \\\n",
       "0         1           1    00:15:40          15.67            1     00:16:46   \n",
       "1         1           1    00:04:18           4.30            1     00:09:18   \n",
       "2         1           1    00:14:39          14.65            1     00:29:46   \n",
       "3         1           1    00:51:25          51.42            1     00:51:29   \n",
       "4         1           1    00:55:06          55.10            1     00:55:10   \n",
       "\n",
       "   minute_dropoff  trip_duration  passenger_count  trip_distance  \\\n",
       "0           16.77           1.10                1            0.0   \n",
       "1            9.30           5.00                1            1.0   \n",
       "2           29.77          15.12                1            3.3   \n",
       "3           51.48           0.06                3            0.0   \n",
       "4           55.17           0.07                1            0.0   \n",
       "\n",
       "       ...       PULocationID DOLocationID  payment_type  fare_amount  extra  \\\n",
       "0      ...                145          145             2          3.0    0.5   \n",
       "1      ...                230          161             1          5.5    0.5   \n",
       "2      ...                100          263             2         13.0    0.5   \n",
       "3      ...                145          145             2          2.5    0.5   \n",
       "4      ...                145          145             2          2.5    0.5   \n",
       "\n",
       "   mta_tax  tip_amount  tolls_amount  improvement_surcharge  total_amount  \n",
       "0      0.5        0.00           0.0                    0.3          4.30  \n",
       "1      0.5        1.35           0.0                    0.3          8.15  \n",
       "2      0.5        0.00           0.0                    0.3         14.30  \n",
       "3      0.5        0.00           0.0                    0.3          3.80  \n",
       "4      0.5        0.00           0.0                    0.3          3.80  \n",
       "\n",
       "[5 rows x 22 columns]"
      ]
     },
     "execution_count": 3,
     "metadata": {},
     "output_type": "execute_result"
    }
   ],
   "source": [
    "data=pd.read_csv('tripdata.csv', na_values= '---')\n",
    "data.dropna(how='all')\n",
    "data.head()"
   ]
  },
  {
   "cell_type": "code",
   "execution_count": 103,
   "metadata": {},
   "outputs": [
    {
     "data": {
      "text/plain": [
       "['VendorID',\n",
       " 'pickup_day',\n",
       " 'date',\n",
       " 'pickup_time',\n",
       " 'minute_pickup',\n",
       " 'dropoff_day',\n",
       " 'dropoff_time',\n",
       " 'minute_dropoff',\n",
       " 'trip_duration',\n",
       " 'passenger_count',\n",
       " 'trip_distance',\n",
       " 'RatecodeID',\n",
       " 'store_and_fwd_flag',\n",
       " 'PULocationID',\n",
       " 'DOLocationID',\n",
       " 'payment_type',\n",
       " 'fare_amount',\n",
       " 'extra',\n",
       " 'mta_tax',\n",
       " 'tip_amount',\n",
       " 'tolls_amount',\n",
       " 'improvement_surcharge',\n",
       " 'total_amount']"
      ]
     },
     "execution_count": 103,
     "metadata": {},
     "output_type": "execute_result"
    }
   ],
   "source": [
    "list(data)"
   ]
  },
  {
   "cell_type": "code",
   "execution_count": 4,
   "metadata": {},
   "outputs": [],
   "source": [
    "df1= data.iloc[:13000]"
   ]
  },
  {
   "cell_type": "code",
   "execution_count": 31,
   "metadata": {},
   "outputs": [
    {
     "name": "stdout",
     "output_type": "stream",
     "text": [
      "                            OLS Regression Results                            \n",
      "==============================================================================\n",
      "Dep. Variable:            fare_amount   R-squared:                       0.761\n",
      "Model:                            OLS   Adj. R-squared:                  0.761\n",
      "Method:                 Least Squares   F-statistic:                     5167.\n",
      "Date:                Sat, 08 Dec 2018   Prob (F-statistic):               0.00\n",
      "Time:                        15:22:50   Log-Likelihood:                -42487.\n",
      "No. Observations:               13000   AIC:                         8.499e+04\n",
      "Df Residuals:                   12991   BIC:                         8.506e+04\n",
      "Df Model:                           8                                         \n",
      "Covariance Type:            nonrobust                                         \n",
      "=================================================================================\n",
      "                    coef    std err          t      P>|t|      [0.025      0.975]\n",
      "---------------------------------------------------------------------------------\n",
      "Intercept         2.5801      0.265      9.736      0.000       2.061       3.100\n",
      "minute_pickup     0.0011      0.001      1.639      0.101      -0.000       0.002\n",
      "PULocationID      0.0034      0.001      3.966      0.000       0.002       0.005\n",
      "tip_amount        0.9235      0.021     44.331      0.000       0.883       0.964\n",
      "tolls_amount      0.3337      0.046      7.280      0.000       0.244       0.424\n",
      "VendorID          0.1195      0.114      1.047      0.295      -0.104       0.343\n",
      "DOLocationID      0.0026      0.001      3.502      0.000       0.001       0.004\n",
      "trip_duration     0.0011      0.001      1.660      0.097      -0.000       0.002\n",
      "trip_distance     2.2582      0.017    136.359      0.000       2.226       2.291\n",
      "==============================================================================\n",
      "Omnibus:                    23375.244   Durbin-Watson:                   2.004\n",
      "Prob(Omnibus):                  0.000   Jarque-Bera (JB):         79181715.445\n",
      "Skew:                          12.675   Prob(JB):                         0.00\n",
      "Kurtosis:                     384.496   Cond. No.                     1.39e+03\n",
      "==============================================================================\n",
      "\n",
      "Warnings:\n",
      "[1] Standard Errors assume that the covariance matrix of the errors is correctly specified.\n",
      "[2] The condition number is large, 1.39e+03. This might indicate that there are\n",
      "strong multicollinearity or other numerical problems.\n"
     ]
    }
   ],
   "source": [
    "reg='fare_amount~ minute_pickup+PULocationID+tip_amount+tolls_amount+VendorID+DOLocationID+trip_duration+trip_distance'\n",
    "model=smf.ols(formula= reg, data=df1)\n",
    "results=model.fit()\n",
    "print(results.summary())"
   ]
  },
  {
   "cell_type": "code",
   "execution_count": 16,
   "metadata": {},
   "outputs": [
    {
     "name": "stdout",
     "output_type": "stream",
     "text": [
      "                            OLS Regression Results                            \n",
      "==============================================================================\n",
      "Dep. Variable:            fare_amount   R-squared:                       0.580\n",
      "Model:                            OLS   Adj. R-squared:                  0.580\n",
      "Method:                 Least Squares   F-statistic:                 1.813e+05\n",
      "Date:                Sat, 08 Dec 2018   Prob (F-statistic):               0.00\n",
      "Time:                        14:10:50   Log-Likelihood:            -3.8090e+06\n",
      "No. Observations:             1048574   AIC:                         7.618e+06\n",
      "Df Residuals:                 1048565   BIC:                         7.618e+06\n",
      "Df Model:                           8                                         \n",
      "Covariance Type:            nonrobust                                         \n",
      "=================================================================================\n",
      "                    coef    std err          t      P>|t|      [0.025      0.975]\n",
      "---------------------------------------------------------------------------------\n",
      "Intercept         4.3696      0.046     94.996      0.000       4.279       4.460\n",
      "minute_pickup     0.0005   2.36e-05     20.779      0.000       0.000       0.001\n",
      "PULocationID      0.0005      0.000      3.886      0.000       0.000       0.001\n",
      "tip_amount        0.5140      0.004    124.288      0.000       0.506       0.522\n",
      "tolls_amount      0.3881      0.007     56.473      0.000       0.375       0.402\n",
      "VendorID         -0.0194      0.018     -1.077      0.282      -0.055       0.016\n",
      "DOLocationID     -0.0007      0.000     -5.578      0.000      -0.001      -0.000\n",
      "trip_duration     0.0008   6.42e-05     13.010      0.000       0.001       0.001\n",
      "trip_distance     2.4584      0.003    790.293      0.000       2.452       2.464\n",
      "=================================================================================\n",
      "Omnibus:                  6823266.000   Durbin-Watson:                      1.980\n",
      "Prob(Omnibus):                  0.000   Jarque-Bera (JB):   10722525320339072.000\n",
      "Skew:                         581.460   Prob(JB):                            0.00\n",
      "Kurtosis:                  495400.057   Cond. No.                        4.84e+03\n",
      "=================================================================================\n",
      "\n",
      "Warnings:\n",
      "[1] Standard Errors assume that the covariance matrix of the errors is correctly specified.\n",
      "[2] The condition number is large, 4.84e+03. This might indicate that there are\n",
      "strong multicollinearity or other numerical problems.\n"
     ]
    }
   ],
   "source": [
    "reg='fare_amount~ minute_pickup+PULocationID+tip_amount+tolls_amount+VendorID+DOLocationID+trip_duration+trip_distance'\n",
    "model=smf.ols(formula= reg, data=data)\n",
    "results=model.fit()\n",
    "print(results.summary())"
   ]
  },
  {
   "cell_type": "code",
   "execution_count": 32,
   "metadata": {},
   "outputs": [],
   "source": [
    "model_fitted_y = results.fittedvalues\n",
    "# model residuals\n",
    "model_residuals = results.resid\n",
    "# normalized residuals\n",
    "model_norm_residuals = results.get_influence().resid_studentized_internal\n",
    "# absolute squared normalized residuals\n",
    "model_norm_residuals_abs_sqrt = np.sqrt(np.abs(model_norm_residuals))\n",
    "# absolute residuals\n",
    "model_abs_resid = np.abs(model_residuals)\n",
    "# leverage, from statsmodels internals\n",
    "model_leverage = results.get_influence().hat_matrix_diag\n",
    "# cook's distance, from statsmodels internals\n",
    "model_cooks = results.get_influence().cooks_distance[0]"
   ]
  },
  {
   "cell_type": "code",
   "execution_count": 33,
   "metadata": {},
   "outputs": [
    {
     "data": {
      "text/plain": [
       "Text(0,0.5,'Residuals')"
      ]
     },
     "execution_count": 33,
     "metadata": {},
     "output_type": "execute_result"
    },
    {
     "data": {
      "image/png": "[encoded data removed]",
      "text/plain": [
       "<Figure size 864x576 with 1 Axes>"
      ]
     },
     "metadata": {},
     "output_type": "display_data"
    }
   ],
   "source": [
    "plot_lm_1 = plt.figure(1)\n",
    "plot_lm_1.set_figheight(8)\n",
    "plot_lm_1.set_figwidth(12)\n",
    "\n",
    "plot_lm_1.axes[0] = sns.residplot(model_fitted_y, 'fare_amount', data=df1, \n",
    "                                  lowess=True, \n",
    "                                  scatter_kws={'alpha': 0.5}, \n",
    "                                  line_kws={'color': 'red', 'lw': 1, 'alpha': 0.8})\n",
    "plot_lm_1.axes[0].set_title('Residuals vs Fitted')\n",
    "plot_lm_1.axes[0].set_xlabel('Fitted values')\n",
    "plot_lm_1.axes[0].set_ylabel('Residuals')\n"
   ]
  },
  {
   "cell_type": "code",
   "execution_count": 34,
   "metadata": {},
   "outputs": [
    {
     "data": {
      "image/png": "[encoded data removed]",
      "text/plain": [
       "<Figure size 864x576 with 1 Axes>"
      ]
     },
     "metadata": {},
     "output_type": "display_data"
    }
   ],
   "source": [
    "#QQ plot\n",
    "from statsmodels.graphics.gofplots import ProbPlot\n",
    "import numpy as np\n",
    "\n",
    "QQ = ProbPlot(model_norm_residuals)\n",
    "plot_lm_2 = QQ.qqplot(line='45', alpha=0.5, color='#4C72B0', lw=1)\n",
    "\n",
    "plot_lm_2.set_figheight(8)\n",
    "plot_lm_2.set_figwidth(12)\n",
    "plot_lm_2.axes[0].set_title('Normal Q-Q')\n",
    "plot_lm_2.axes[0].set_xlabel('Theoretical Quantiles')\n",
    "plot_lm_2.axes[0].set_ylabel('Standardized Residuals');\n"
   ]
  },
  {
   "cell_type": "code",
   "execution_count": 5,
   "metadata": {},
   "outputs": [
    {
     "data": {
      "image/png": "[encoded data removed]",
      "text/plain": [
       "<Figure size 748.8x374.4 with 1 Axes>"
      ]
     },
     "metadata": {},
     "output_type": "display_data"
    }
   ],
   "source": [
    "sns.lmplot(\"total_amount\", \"fare_amount\", data, size = 5.2, aspect = 2, line_kws = {'color' : 'crimson'}, scatter_kws = {'color':'orange'});"
   ]
  },
  {
   "cell_type": "code",
   "execution_count": 104,
   "metadata": {},
   "outputs": [
    {
     "name": "stdout",
     "output_type": "stream",
     "text": [
      "                       VendorID  pickup_day      date  minute_pickup  \\\n",
      "VendorID               1.000000    0.007296 -0.001393      -0.000370   \n",
      "pickup_day             0.007296    1.000000 -0.000489      -0.160018   \n",
      "date                  -0.001393   -0.000489  1.000000      -0.001099   \n",
      "minute_pickup         -0.000370   -0.160018 -0.001099       1.000000   \n",
      "dropoff_day            0.004698    0.918240 -0.000339      -0.167442   \n",
      "minute_dropoff        -0.002175   -0.162495 -0.000523       0.933388   \n",
      "trip_duration         -0.004975   -0.010905  0.001557      -0.157742   \n",
      "passenger_count        0.234335   -0.002513 -0.000799       0.012424   \n",
      "trip_distance          0.027423    0.031525  0.000180      -0.017714   \n",
      "RatecodeID             0.007683    0.009403 -0.000287      -0.006972   \n",
      "PULocationID          -0.018971   -0.000524  0.000028       0.032450   \n",
      "DOLocationID          -0.013475   -0.001331 -0.001260       0.027591   \n",
      "payment_type          -0.025298    0.005899 -0.000045       0.003318   \n",
      "fare_amount            0.019779    0.017474  0.000827       0.000977   \n",
      "extra                 -0.010565   -0.268805 -0.001216       0.150298   \n",
      "mta_tax               -0.004411   -0.004408  0.001265       0.013642   \n",
      "tip_amount             0.013154    0.011321 -0.001006       0.009040   \n",
      "tolls_amount           0.014598    0.026003 -0.001140       0.003187   \n",
      "improvement_surcharge -0.022291   -0.001068  0.001492       0.005069   \n",
      "total_amount           0.020464    0.013490  0.000424       0.005883   \n",
      "\n",
      "                       dropoff_day  minute_dropoff  trip_duration  \\\n",
      "VendorID                  0.004698       -0.002175      -0.004975   \n",
      "pickup_day                0.918240       -0.162495      -0.010905   \n",
      "date                     -0.000339       -0.000523       0.001557   \n",
      "minute_pickup            -0.167442        0.933388      -0.157742   \n",
      "dropoff_day               1.000000       -0.181810      -0.043815   \n",
      "minute_dropoff           -0.181810        1.000000       0.207141   \n",
      "trip_duration            -0.043815        0.207141       1.000000   \n",
      "passenger_count          -0.004460        0.010728      -0.004350   \n",
      "trip_distance             0.039555       -0.017004       0.001503   \n",
      "RatecodeID                0.011798       -0.004079       0.007783   \n",
      "PULocationID             -0.002286        0.036247       0.011277   \n",
      "DOLocationID             -0.002446        0.030838       0.009639   \n",
      "payment_type              0.007076        0.005462       0.005986   \n",
      "fare_amount               0.023496        0.004078       0.008558   \n",
      "extra                    -0.287411        0.125388      -0.064705   \n",
      "mta_tax                  -0.004979        0.011521      -0.005485   \n",
      "tip_amount                0.014724        0.010061       0.003041   \n",
      "tolls_amount              0.030171        0.011383       0.022632   \n",
      "improvement_surcharge    -0.001233        0.005137       0.000316   \n",
      "total_amount              0.019209        0.008971       0.008648   \n",
      "\n",
      "                       passenger_count  trip_distance  RatecodeID  \\\n",
      "VendorID                      0.234335       0.027423    0.007683   \n",
      "pickup_day                   -0.002513       0.031525    0.009403   \n",
      "date                         -0.000799       0.000180   -0.000287   \n",
      "minute_pickup                 0.012424      -0.017714   -0.006972   \n",
      "dropoff_day                  -0.004460       0.039555    0.011798   \n",
      "minute_dropoff                0.010728      -0.017004   -0.004079   \n",
      "trip_duration                -0.004350       0.001503    0.007783   \n",
      "passenger_count               1.000000       0.013282   -0.004827   \n",
      "trip_distance                 0.013282       1.000000    0.250205   \n",
      "RatecodeID                   -0.004827       0.250205    1.000000   \n",
      "PULocationID                 -0.004621      -0.082986   -0.006328   \n",
      "DOLocationID                 -0.005375      -0.092645   -0.006408   \n",
      "payment_type                  0.005922      -0.050993   -0.005473   \n",
      "fare_amount                   0.008792       0.755945    0.293631   \n",
      "extra                         0.006465       0.040642   -0.005376   \n",
      "mta_tax                       0.000605      -0.100109   -0.340761   \n",
      "tip_amount                   -0.001850       0.539181    0.207137   \n",
      "tolls_amount                  0.008961       0.591509    0.251643   \n",
      "improvement_surcharge        -0.003034       0.018294   -0.069602   \n",
      "total_amount                  0.008337       0.794109    0.308935   \n",
      "\n",
      "                       PULocationID  DOLocationID  payment_type  fare_amount  \\\n",
      "VendorID                  -0.018971     -0.013475     -0.025298     0.019779   \n",
      "pickup_day                -0.000524     -0.001331      0.005899     0.017474   \n",
      "date                       0.000028     -0.001260     -0.000045     0.000827   \n",
      "minute_pickup              0.032450      0.027591      0.003318     0.000977   \n",
      "dropoff_day               -0.002286     -0.002446      0.007076     0.023496   \n",
      "minute_dropoff             0.036247      0.030838      0.005462     0.004078   \n",
      "trip_duration              0.011277      0.009639      0.005986     0.008558   \n",
      "passenger_count           -0.004621     -0.005375      0.005922     0.008792   \n",
      "trip_distance             -0.082986     -0.092645     -0.050993     0.755945   \n",
      "RatecodeID                -0.006328     -0.006408     -0.005473     0.293631   \n",
      "PULocationID               1.000000      0.111021     -0.017218    -0.058402   \n",
      "DOLocationID               0.111021      1.000000     -0.020262    -0.071515   \n",
      "payment_type              -0.017218     -0.020262      1.000000    -0.047480   \n",
      "fare_amount               -0.058402     -0.071515     -0.047480     1.000000   \n",
      "extra                     -0.036141     -0.036011     -0.011599     0.009150   \n",
      "mta_tax                   -0.002115      0.039179     -0.061640    -0.136679   \n",
      "tip_amount                -0.032287     -0.038939     -0.468051     0.479767   \n",
      "tolls_amount              -0.037154     -0.047652     -0.038314     0.486880   \n",
      "improvement_surcharge     -0.001486      0.001125     -0.094930     0.024950   \n",
      "total_amount              -0.059793     -0.073048     -0.119229     0.983168   \n",
      "\n",
      "                          extra   mta_tax  tip_amount  tolls_amount  \\\n",
      "VendorID              -0.010565 -0.004411    0.013154      0.014598   \n",
      "pickup_day            -0.268805 -0.004408    0.011321      0.026003   \n",
      "date                  -0.001216  0.001265   -0.001006     -0.001140   \n",
      "minute_pickup          0.150298  0.013642    0.009040      0.003187   \n",
      "dropoff_day           -0.287411 -0.004979    0.014724      0.030171   \n",
      "minute_dropoff         0.125388  0.011521    0.010061      0.011383   \n",
      "trip_duration         -0.064705 -0.005485    0.003041      0.022632   \n",
      "passenger_count        0.006465  0.000605   -0.001850      0.008961   \n",
      "trip_distance          0.040642 -0.100109    0.539181      0.591509   \n",
      "RatecodeID            -0.005376 -0.340761    0.207137      0.251643   \n",
      "PULocationID          -0.036141 -0.002115   -0.032287     -0.037154   \n",
      "DOLocationID          -0.036011  0.039179   -0.038939     -0.047652   \n",
      "payment_type          -0.011599 -0.061640   -0.468051     -0.038314   \n",
      "fare_amount            0.009150 -0.136679    0.479767      0.486880   \n",
      "extra                  1.000000  0.044362    0.025999     -0.002651   \n",
      "mta_tax                0.044362  1.000000   -0.117853     -0.244686   \n",
      "tip_amount             0.025999 -0.117853    1.000000      0.426459   \n",
      "tolls_amount          -0.002651 -0.244686    0.426459      1.000000   \n",
      "improvement_surcharge  0.034808  0.602885    0.016631      0.006455   \n",
      "total_amount           0.033792 -0.156271    0.612986      0.584392   \n",
      "\n",
      "                       improvement_surcharge  total_amount  \n",
      "VendorID                           -0.022291      0.020464  \n",
      "pickup_day                         -0.001068      0.013490  \n",
      "date                                0.001492      0.000424  \n",
      "minute_pickup                       0.005069      0.005883  \n",
      "dropoff_day                        -0.001233      0.019209  \n",
      "minute_dropoff                      0.005137      0.008971  \n",
      "trip_duration                       0.000316      0.008648  \n",
      "passenger_count                    -0.003034      0.008337  \n",
      "trip_distance                       0.018294      0.794109  \n",
      "RatecodeID                         -0.069602      0.308935  \n",
      "PULocationID                       -0.001486     -0.059793  \n",
      "DOLocationID                        0.001125     -0.073048  \n",
      "payment_type                       -0.094930     -0.119229  \n",
      "fare_amount                         0.024950      0.983168  \n",
      "extra                               0.034808      0.033792  \n",
      "mta_tax                             0.602885     -0.156271  \n",
      "tip_amount                          0.016631      0.612986  \n",
      "tolls_amount                        0.006455      0.584392  \n",
      "improvement_surcharge               1.000000      0.027965  \n",
      "total_amount                        0.027965      1.000000  \n"
     ]
    }
   ],
   "source": [
    "dfCorr = data[['VendorID',\n",
    " 'pickup_day',\n",
    " 'date',\n",
    " 'pickup_time',\n",
    " 'minute_pickup',\n",
    " 'dropoff_day',\n",
    " 'dropoff_time',\n",
    " 'minute_dropoff',\n",
    " 'trip_duration',\n",
    " 'passenger_count',\n",
    " 'trip_distance',\n",
    " 'RatecodeID',\n",
    " 'store_and_fwd_flag',\n",
    " 'PULocationID',\n",
    " 'DOLocationID',\n",
    " 'payment_type',\n",
    " 'fare_amount',\n",
    " 'extra',\n",
    " 'mta_tax',\n",
    " 'tip_amount',\n",
    " 'tolls_amount',\n",
    " 'improvement_surcharge',\n",
    " 'total_amount']]\n",
    "corrMat = dfCorr.corr()\n",
    "print(corrMat)"
   ]
  },
  {
   "cell_type": "code",
   "execution_count": 5,
   "metadata": {},
   "outputs": [
    {
     "data": {
      "text/html": [
       "<div>\n",
       "<style scoped>\n",
       "    .dataframe tbody tr th:only-of-type {\n",
       "        vertical-align: middle;\n",
       "    }\n",
       "\n",
       "    .dataframe tbody tr th {\n",
       "        vertical-align: top;\n",
       "    }\n",
       "\n",
       "    .dataframe thead th {\n",
       "        text-align: right;\n",
       "    }\n",
       "</style>\n",
       "<table border=\"1\" class=\"dataframe\">\n",
       "  <thead>\n",
       "    <tr style=\"text-align: right;\">\n",
       "      <th></th>\n",
       "      <th>VendorID</th>\n",
       "      <th>pickup_day</th>\n",
       "      <th>minute_pickup</th>\n",
       "      <th>trip_duration</th>\n",
       "      <th>passenger_count</th>\n",
       "      <th>trip_distance</th>\n",
       "      <th>PULocationID</th>\n",
       "      <th>DOLocationID</th>\n",
       "      <th>payment_type</th>\n",
       "      <th>tip_amount</th>\n",
       "      <th>tolls_amount</th>\n",
       "    </tr>\n",
       "  </thead>\n",
       "  <tbody>\n",
       "    <tr>\n",
       "      <th>8029</th>\n",
       "      <td>2</td>\n",
       "      <td>1</td>\n",
       "      <td>9.28</td>\n",
       "      <td>3.57</td>\n",
       "      <td>1</td>\n",
       "      <td>1.01</td>\n",
       "      <td>161</td>\n",
       "      <td>164</td>\n",
       "      <td>2</td>\n",
       "      <td>0.00</td>\n",
       "      <td>0.0</td>\n",
       "    </tr>\n",
       "    <tr>\n",
       "      <th>6120</th>\n",
       "      <td>1</td>\n",
       "      <td>1</td>\n",
       "      <td>5.78</td>\n",
       "      <td>17.74</td>\n",
       "      <td>1</td>\n",
       "      <td>3.50</td>\n",
       "      <td>230</td>\n",
       "      <td>158</td>\n",
       "      <td>1</td>\n",
       "      <td>3.15</td>\n",
       "      <td>0.0</td>\n",
       "    </tr>\n",
       "    <tr>\n",
       "      <th>2416</th>\n",
       "      <td>2</td>\n",
       "      <td>1</td>\n",
       "      <td>22.45</td>\n",
       "      <td>4.95</td>\n",
       "      <td>5</td>\n",
       "      <td>1.24</td>\n",
       "      <td>68</td>\n",
       "      <td>249</td>\n",
       "      <td>2</td>\n",
       "      <td>0.00</td>\n",
       "      <td>0.0</td>\n",
       "    </tr>\n",
       "    <tr>\n",
       "      <th>977</th>\n",
       "      <td>2</td>\n",
       "      <td>1</td>\n",
       "      <td>50.75</td>\n",
       "      <td>22.88</td>\n",
       "      <td>1</td>\n",
       "      <td>4.92</td>\n",
       "      <td>142</td>\n",
       "      <td>179</td>\n",
       "      <td>1</td>\n",
       "      <td>4.26</td>\n",
       "      <td>0.0</td>\n",
       "    </tr>\n",
       "    <tr>\n",
       "      <th>5357</th>\n",
       "      <td>2</td>\n",
       "      <td>1</td>\n",
       "      <td>0.73</td>\n",
       "      <td>23.32</td>\n",
       "      <td>1</td>\n",
       "      <td>5.08</td>\n",
       "      <td>181</td>\n",
       "      <td>37</td>\n",
       "      <td>2</td>\n",
       "      <td>0.00</td>\n",
       "      <td>0.0</td>\n",
       "    </tr>\n",
       "  </tbody>\n",
       "</table>\n",
       "</div>"
      ],
      "text/plain": [
       "      VendorID  pickup_day  minute_pickup  trip_duration  passenger_count  \\\n",
       "8029         2           1           9.28           3.57                1   \n",
       "6120         1           1           5.78          17.74                1   \n",
       "2416         2           1          22.45           4.95                5   \n",
       "977          2           1          50.75          22.88                1   \n",
       "5357         2           1           0.73          23.32                1   \n",
       "\n",
       "      trip_distance  PULocationID  DOLocationID  payment_type  tip_amount  \\\n",
       "8029           1.01           161           164             2        0.00   \n",
       "6120           3.50           230           158             1        3.15   \n",
       "2416           1.24            68           249             2        0.00   \n",
       "977            4.92           142           179             1        4.26   \n",
       "5357           5.08           181            37             2        0.00   \n",
       "\n",
       "      tolls_amount  \n",
       "8029           0.0  \n",
       "6120           0.0  \n",
       "2416           0.0  \n",
       "977            0.0  \n",
       "5357           0.0  "
      ]
     },
     "execution_count": 5,
     "metadata": {},
     "output_type": "execute_result"
    }
   ],
   "source": [
    "Y= df1.fare_amount\n",
    "X= df1.drop(['total_amount', 'pickup_time', 'dropoff_time','store_and_fwd_flag','fare_amount','mta_tax', 'improvement_surcharge', 'extra','RatecodeID','minute_dropoff','dropoff_day'], axis=1)\n",
    "X_test, X_train, Y_test, Y_train = train_test_split(X, Y, test_size=0.3, random_state=123)\n",
    "X_test.head()"
   ]
  },
  {
   "cell_type": "code",
   "execution_count": 6,
   "metadata": {},
   "outputs": [],
   "source": [
    "from sklearn.preprocessing import StandardScaler\n",
    "sc=StandardScaler()\n",
    "X_train = sc.fit_transform(X_train)\n",
    "X_test = sc.transform(X_test)"
   ]
  },
  {
   "cell_type": "code",
   "execution_count": 7,
   "metadata": {},
   "outputs": [],
   "source": [
    "from sklearn.neural_network import MLPRegressor\n",
    "net= MLPRegressor(solver='sgd', max_iter=2500, hidden_layer_sizes=300)\n",
    "test= net.fit(X_train, Y_train)"
   ]
  },
  {
   "cell_type": "code",
   "execution_count": 8,
   "metadata": {},
   "outputs": [],
   "source": [
    "pred=net.predict(X_test)"
   ]
  },
  {
   "cell_type": "code",
   "execution_count": 9,
   "metadata": {},
   "outputs": [
    {
     "data": {
      "text/plain": [
       "{'activation': 'relu',\n",
       " 'alpha': 0.0001,\n",
       " 'batch_size': 'auto',\n",
       " 'beta_1': 0.9,\n",
       " 'beta_2': 0.999,\n",
       " 'early_stopping': False,\n",
       " 'epsilon': 1e-08,\n",
       " 'hidden_layer_sizes': 300,\n",
       " 'learning_rate': 'constant',\n",
       " 'learning_rate_init': 0.001,\n",
       " 'max_iter': 2500,\n",
       " 'momentum': 0.9,\n",
       " 'nesterovs_momentum': True,\n",
       " 'power_t': 0.5,\n",
       " 'random_state': None,\n",
       " 'shuffle': True,\n",
       " 'solver': 'sgd',\n",
       " 'tol': 0.0001,\n",
       " 'validation_fraction': 0.1,\n",
       " 'verbose': False,\n",
       " 'warm_start': False}"
      ]
     },
     "execution_count": 9,
     "metadata": {},
     "output_type": "execute_result"
    }
   ],
   "source": [
    "net.get_params(deep=True)"
   ]
  },
  {
   "cell_type": "code",
   "execution_count": 10,
   "metadata": {},
   "outputs": [
    {
     "data": {
      "text/plain": [
       "0.644488549251087"
      ]
     },
     "execution_count": 10,
     "metadata": {},
     "output_type": "execute_result"
    }
   ],
   "source": [
    "net.score(X_test, Y_test)"
   ]
  },
  {
   "cell_type": "code",
   "execution_count": 10,
   "metadata": {},
   "outputs": [
    {
     "data": {
      "text/plain": [
       "MLPRegressor(activation='relu', alpha=0.0001, batch_size='auto', beta_1=0.9,\n",
       "       beta_2=0.999, early_stopping=False, epsilon=1e-08,\n",
       "       hidden_layer_sizes=300, learning_rate='constant',\n",
       "       learning_rate_init=0.001, max_iter=2500, momentum=0.9,\n",
       "       nesterovs_momentum=True, power_t=0.5, random_state=None,\n",
       "       shuffle=True, solver='sgd', tol=0.0001, validation_fraction=0.1,\n",
       "       verbose=False, warm_start=False)"
      ]
     },
     "execution_count": 10,
     "metadata": {},
     "output_type": "execute_result"
    }
   ],
   "source": [
    "net.partial_fit(X_train, Y_train)"
   ]
  },
  {
   "cell_type": "code",
   "execution_count": 29,
   "metadata": {},
   "outputs": [
    {
     "data": {
      "text/plain": [
       "9100"
      ]
     },
     "execution_count": 29,
     "metadata": {},
     "output_type": "execute_result"
    }
   ],
   "source": [
    "len(Y_test)"
   ]
  },
  {
   "cell_type": "code",
   "execution_count": 11,
   "metadata": {},
   "outputs": [],
   "source": [
    "import matplotlib.pyplot as plt"
   ]
  },
  {
   "cell_type": "code",
   "execution_count": 12,
   "metadata": {},
   "outputs": [
    {
     "data": {
      "image/png": "[encoded data removed]",
      "text/plain": [
       "<Figure size 1152x648 with 1 Axes>"
      ]
     },
     "metadata": {},
     "output_type": "display_data"
    }
   ],
   "source": [
    "fig = plt.figure(figsize=(16,9))\n",
    "plt.plot(Y_test, color = 'red', label = 'Real data')\n",
    "plt.plot(pred, color = 'blue', label = 'Predicted data')\n",
    "plt.title('Prediction')\n",
    "plt.legend()\n",
    "plt.show()"
   ]
  },
  {
   "cell_type": "code",
   "execution_count": 13,
   "metadata": {},
   "outputs": [
    {
     "data": {
      "text/plain": [
       "53.04569918728802"
      ]
     },
     "execution_count": 13,
     "metadata": {},
     "output_type": "execute_result"
    }
   ],
   "source": [
    "import sklearn.metrics as skm\n",
    "skm.mean_squared_error(pred, Y_test)"
   ]
  },
  {
   "cell_type": "code",
   "execution_count": 14,
   "metadata": {},
   "outputs": [
    {
     "data": {
      "text/plain": [
       "0.6517634075372329"
      ]
     },
     "execution_count": 14,
     "metadata": {},
     "output_type": "execute_result"
    }
   ],
   "source": [
    "skm.r2_score(pred, Y_test)"
   ]
  },
  {
   "cell_type": "code",
   "execution_count": 12,
   "metadata": {},
   "outputs": [],
   "source": [
    "from sklearn.model_selection import validation_curve\n",
    "from sklearn.model_selection import KFold"
   ]
  },
  {
   "cell_type": "code",
   "execution_count": 33,
   "metadata": {},
   "outputs": [
    {
     "data": {
      "text/plain": [
       "Text(0,0.5,'Residuals')"
      ]
     },
     "execution_count": 33,
     "metadata": {},
     "output_type": "execute_result"
    },
    {
     "data": {
      "image/png": "[encoded data removed]",
      "text/plain": [
       "<Figure size 864x576 with 1 Axes>"
      ]
     },
     "metadata": {},
     "output_type": "display_data"
    }
   ],
   "source": [
    "plot_lm_1 = plt.figure(1)\n",
    "plot_lm_1.set_figheight(8)\n",
    "plot_lm_1.set_figwidth(12)\n",
    "\n",
    "plot_lm_1.axes[0] = sns.residplot(pred, Y_test, data=df1, \n",
    "                                  lowess=True, \n",
    "                                  scatter_kws={'alpha': 0.5}, \n",
    "                                  line_kws={'color': 'red', 'lw': 1, 'alpha': 0.8})\n",
    "plot_lm_1.axes[0].set_title('Residuals vs Fitted')\n",
    "plot_lm_1.axes[0].set_xlabel('Fitted values')\n",
    "plot_lm_1.axes[0].set_ylabel('Residuals')\n",
    "\n",
    "# annotations\n",
    "#abs_resid = model_abs_resid.sort_values(ascending=False)\n",
    "#abs_resid_top_3 = abs_resid[:3]\n",
    "#for i in abs_resid_top_3.index:\n",
    "    #plot_lm_1.axes[0].annotate(i, \n",
    "                               #xy=(model_fitted_y[i], \n",
    "                                #   model_residuals[i]));"
   ]
  },
  {
   "cell_type": "code",
   "execution_count": 14,
   "metadata": {},
   "outputs": [
    {
     "data": {
      "text/plain": [
       "<matplotlib.collections.PathCollection at 0x1dbe2b940>"
      ]
     },
     "execution_count": 14,
     "metadata": {},
     "output_type": "execute_result"
    },
    {
     "data": {
      "image/png": "[encoded data removed]",
      "text/plain": [
       "<Figure size 432x288 with 1 Axes>"
      ]
     },
     "metadata": {},
     "output_type": "display_data"
    }
   ],
   "source": [
    "plt.scatter(Y_test, pred, linewidths= 1.5, norm= 1)"
   ]
  },
  {
   "cell_type": "code",
   "execution_count": 15,
   "metadata": {},
   "outputs": [],
   "source": [
    "df2=data.loc[13001:27000]"
   ]
  },
  {
   "cell_type": "code",
   "execution_count": 17,
   "metadata": {},
   "outputs": [
    {
     "data": {
      "text/html": [
       "<div>\n",
       "<style scoped>\n",
       "    .dataframe tbody tr th:only-of-type {\n",
       "        vertical-align: middle;\n",
       "    }\n",
       "\n",
       "    .dataframe tbody tr th {\n",
       "        vertical-align: top;\n",
       "    }\n",
       "\n",
       "    .dataframe thead th {\n",
       "        text-align: right;\n",
       "    }\n",
       "</style>\n",
       "<table border=\"1\" class=\"dataframe\">\n",
       "  <thead>\n",
       "    <tr style=\"text-align: right;\">\n",
       "      <th></th>\n",
       "      <th>VendorID</th>\n",
       "      <th>pickup_day</th>\n",
       "      <th>minute_pickup</th>\n",
       "      <th>trip_duration</th>\n",
       "      <th>passenger_count</th>\n",
       "      <th>trip_distance</th>\n",
       "      <th>PULocationID</th>\n",
       "      <th>DOLocationID</th>\n",
       "      <th>payment_type</th>\n",
       "      <th>tip_amount</th>\n",
       "      <th>tolls_amount</th>\n",
       "    </tr>\n",
       "  </thead>\n",
       "  <tbody>\n",
       "    <tr>\n",
       "      <th>15354</th>\n",
       "      <td>2</td>\n",
       "      <td>1</td>\n",
       "      <td>64.92</td>\n",
       "      <td>12.28</td>\n",
       "      <td>1</td>\n",
       "      <td>2.51</td>\n",
       "      <td>232</td>\n",
       "      <td>107</td>\n",
       "      <td>1</td>\n",
       "      <td>2.56</td>\n",
       "      <td>0.00</td>\n",
       "    </tr>\n",
       "    <tr>\n",
       "      <th>15709</th>\n",
       "      <td>1</td>\n",
       "      <td>1</td>\n",
       "      <td>83.12</td>\n",
       "      <td>19.58</td>\n",
       "      <td>1</td>\n",
       "      <td>7.20</td>\n",
       "      <td>246</td>\n",
       "      <td>129</td>\n",
       "      <td>1</td>\n",
       "      <td>6.11</td>\n",
       "      <td>5.76</td>\n",
       "    </tr>\n",
       "    <tr>\n",
       "      <th>15099</th>\n",
       "      <td>2</td>\n",
       "      <td>1</td>\n",
       "      <td>71.07</td>\n",
       "      <td>4.45</td>\n",
       "      <td>1</td>\n",
       "      <td>0.83</td>\n",
       "      <td>234</td>\n",
       "      <td>107</td>\n",
       "      <td>1</td>\n",
       "      <td>1.70</td>\n",
       "      <td>0.00</td>\n",
       "    </tr>\n",
       "    <tr>\n",
       "      <th>24505</th>\n",
       "      <td>2</td>\n",
       "      <td>1</td>\n",
       "      <td>270.65</td>\n",
       "      <td>7.80</td>\n",
       "      <td>1</td>\n",
       "      <td>1.48</td>\n",
       "      <td>100</td>\n",
       "      <td>230</td>\n",
       "      <td>1</td>\n",
       "      <td>1.76</td>\n",
       "      <td>0.00</td>\n",
       "    </tr>\n",
       "    <tr>\n",
       "      <th>26789</th>\n",
       "      <td>2</td>\n",
       "      <td>1</td>\n",
       "      <td>353.10</td>\n",
       "      <td>3.97</td>\n",
       "      <td>1</td>\n",
       "      <td>1.03</td>\n",
       "      <td>226</td>\n",
       "      <td>260</td>\n",
       "      <td>2</td>\n",
       "      <td>0.00</td>\n",
       "      <td>0.00</td>\n",
       "    </tr>\n",
       "  </tbody>\n",
       "</table>\n",
       "</div>"
      ],
      "text/plain": [
       "       VendorID  pickup_day  minute_pickup  trip_duration  passenger_count  \\\n",
       "15354         2           1          64.92          12.28                1   \n",
       "15709         1           1          83.12          19.58                1   \n",
       "15099         2           1          71.07           4.45                1   \n",
       "24505         2           1         270.65           7.80                1   \n",
       "26789         2           1         353.10           3.97                1   \n",
       "\n",
       "       trip_distance  PULocationID  DOLocationID  payment_type  tip_amount  \\\n",
       "15354           2.51           232           107             1        2.56   \n",
       "15709           7.20           246           129             1        6.11   \n",
       "15099           0.83           234           107             1        1.70   \n",
       "24505           1.48           100           230             1        1.76   \n",
       "26789           1.03           226           260             2        0.00   \n",
       "\n",
       "       tolls_amount  \n",
       "15354          0.00  \n",
       "15709          5.76  \n",
       "15099          0.00  \n",
       "24505          0.00  \n",
       "26789          0.00  "
      ]
     },
     "execution_count": 17,
     "metadata": {},
     "output_type": "execute_result"
    }
   ],
   "source": [
    "Y= df2.fare_amount\n",
    "X= df2.drop(['total_amount', 'pickup_time', 'dropoff_time','store_and_fwd_flag','fare_amount','mta_tax', 'improvement_surcharge', 'extra','RatecodeID','minute_dropoff','dropoff_day'], axis=1)\n",
    "X_test, X_train, Y_test, Y_train = train_test_split(X, Y, test_size=0.3, random_state=123)\n",
    "X_test.head()"
   ]
  },
  {
   "cell_type": "code",
   "execution_count": 18,
   "metadata": {},
   "outputs": [],
   "source": [
    "X_train = sc.fit_transform(X_train)\n",
    "X_test = sc.transform(X_test)"
   ]
  },
  {
   "cell_type": "code",
   "execution_count": 19,
   "metadata": {},
   "outputs": [],
   "source": [
    "net= MLPRegressor(solver='sgd', max_iter=2500, hidden_layer_sizes=300)\n",
    "test= net.fit(X_train, Y_train)"
   ]
  },
  {
   "cell_type": "code",
   "execution_count": 20,
   "metadata": {},
   "outputs": [],
   "source": [
    "pred=net.predict(X_test)"
   ]
  },
  {
   "cell_type": "code",
   "execution_count": 21,
   "metadata": {},
   "outputs": [
    {
     "data": {
      "image/png": "[encoded data removed]",
      "text/plain": [
       "<Figure size 1152x648 with 1 Axes>"
      ]
     },
     "metadata": {},
     "output_type": "display_data"
    }
   ],
   "source": [
    "fig = plt.figure(figsize=(16,9))\n",
    "plt.plot(Y_test, color = 'red', label = 'Real data')\n",
    "plt.plot(pred, color = 'blue', label = 'Predicted data')\n",
    "plt.title('Prediction')\n",
    "plt.legend()\n",
    "plt.show()"
   ]
  },
  {
   "cell_type": "code",
   "execution_count": 22,
   "metadata": {},
   "outputs": [
    {
     "data": {
      "text/plain": [
       "0.7462326893957762"
      ]
     },
     "execution_count": 22,
     "metadata": {},
     "output_type": "execute_result"
    }
   ],
   "source": [
    "skm.r2_score(pred, Y_test)"
   ]
  },
  {
   "cell_type": "code",
   "execution_count": 23,
   "metadata": {},
   "outputs": [
    {
     "data": {
      "text/plain": [
       "0.8204749229768078"
      ]
     },
     "execution_count": 23,
     "metadata": {},
     "output_type": "execute_result"
    }
   ],
   "source": [
    "net.score(X_test, Y_test)"
   ]
  },
  {
   "cell_type": "code",
   "execution_count": 24,
   "metadata": {},
   "outputs": [],
   "source": [
    "df3=data.loc[27001:41000]"
   ]
  },
  {
   "cell_type": "code",
   "execution_count": 25,
   "metadata": {},
   "outputs": [
    {
     "data": {
      "text/html": [
       "<div>\n",
       "<style scoped>\n",
       "    .dataframe tbody tr th:only-of-type {\n",
       "        vertical-align: middle;\n",
       "    }\n",
       "\n",
       "    .dataframe tbody tr th {\n",
       "        vertical-align: top;\n",
       "    }\n",
       "\n",
       "    .dataframe thead th {\n",
       "        text-align: right;\n",
       "    }\n",
       "</style>\n",
       "<table border=\"1\" class=\"dataframe\">\n",
       "  <thead>\n",
       "    <tr style=\"text-align: right;\">\n",
       "      <th></th>\n",
       "      <th>VendorID</th>\n",
       "      <th>pickup_day</th>\n",
       "      <th>minute_pickup</th>\n",
       "      <th>trip_duration</th>\n",
       "      <th>passenger_count</th>\n",
       "      <th>trip_distance</th>\n",
       "      <th>PULocationID</th>\n",
       "      <th>DOLocationID</th>\n",
       "      <th>payment_type</th>\n",
       "      <th>tip_amount</th>\n",
       "      <th>tolls_amount</th>\n",
       "    </tr>\n",
       "  </thead>\n",
       "  <tbody>\n",
       "    <tr>\n",
       "      <th>29354</th>\n",
       "      <td>1</td>\n",
       "      <td>1</td>\n",
       "      <td>384.58</td>\n",
       "      <td>8.19</td>\n",
       "      <td>1</td>\n",
       "      <td>2.50</td>\n",
       "      <td>74</td>\n",
       "      <td>140</td>\n",
       "      <td>1</td>\n",
       "      <td>1.00</td>\n",
       "      <td>0.0</td>\n",
       "    </tr>\n",
       "    <tr>\n",
       "      <th>29709</th>\n",
       "      <td>1</td>\n",
       "      <td>1</td>\n",
       "      <td>394.67</td>\n",
       "      <td>9.61</td>\n",
       "      <td>1</td>\n",
       "      <td>1.20</td>\n",
       "      <td>100</td>\n",
       "      <td>161</td>\n",
       "      <td>1</td>\n",
       "      <td>1.32</td>\n",
       "      <td>0.0</td>\n",
       "    </tr>\n",
       "    <tr>\n",
       "      <th>29099</th>\n",
       "      <td>1</td>\n",
       "      <td>1</td>\n",
       "      <td>395.77</td>\n",
       "      <td>7.73</td>\n",
       "      <td>1</td>\n",
       "      <td>1.20</td>\n",
       "      <td>234</td>\n",
       "      <td>246</td>\n",
       "      <td>1</td>\n",
       "      <td>2.45</td>\n",
       "      <td>0.0</td>\n",
       "    </tr>\n",
       "    <tr>\n",
       "      <th>38505</th>\n",
       "      <td>1</td>\n",
       "      <td>1</td>\n",
       "      <td>471.93</td>\n",
       "      <td>9.27</td>\n",
       "      <td>1</td>\n",
       "      <td>0.90</td>\n",
       "      <td>230</td>\n",
       "      <td>161</td>\n",
       "      <td>1</td>\n",
       "      <td>1.00</td>\n",
       "      <td>0.0</td>\n",
       "    </tr>\n",
       "    <tr>\n",
       "      <th>40789</th>\n",
       "      <td>2</td>\n",
       "      <td>1</td>\n",
       "      <td>427.22</td>\n",
       "      <td>12.90</td>\n",
       "      <td>1</td>\n",
       "      <td>1.58</td>\n",
       "      <td>107</td>\n",
       "      <td>186</td>\n",
       "      <td>1</td>\n",
       "      <td>3.09</td>\n",
       "      <td>0.0</td>\n",
       "    </tr>\n",
       "  </tbody>\n",
       "</table>\n",
       "</div>"
      ],
      "text/plain": [
       "       VendorID  pickup_day  minute_pickup  trip_duration  passenger_count  \\\n",
       "29354         1           1         384.58           8.19                1   \n",
       "29709         1           1         394.67           9.61                1   \n",
       "29099         1           1         395.77           7.73                1   \n",
       "38505         1           1         471.93           9.27                1   \n",
       "40789         2           1         427.22          12.90                1   \n",
       "\n",
       "       trip_distance  PULocationID  DOLocationID  payment_type  tip_amount  \\\n",
       "29354           2.50            74           140             1        1.00   \n",
       "29709           1.20           100           161             1        1.32   \n",
       "29099           1.20           234           246             1        2.45   \n",
       "38505           0.90           230           161             1        1.00   \n",
       "40789           1.58           107           186             1        3.09   \n",
       "\n",
       "       tolls_amount  \n",
       "29354           0.0  \n",
       "29709           0.0  \n",
       "29099           0.0  \n",
       "38505           0.0  \n",
       "40789           0.0  "
      ]
     },
     "execution_count": 25,
     "metadata": {},
     "output_type": "execute_result"
    }
   ],
   "source": [
    "Y= df3.fare_amount\n",
    "X= df3.drop(['total_amount', 'pickup_time', 'dropoff_time','store_and_fwd_flag','fare_amount','mta_tax', 'improvement_surcharge', 'extra','RatecodeID','minute_dropoff','dropoff_day'], axis=1)\n",
    "X_test, X_train, Y_test, Y_train = train_test_split(X, Y, test_size=0.3, random_state=123)\n",
    "X_test.head()"
   ]
  },
  {
   "cell_type": "code",
   "execution_count": 26,
   "metadata": {},
   "outputs": [],
   "source": [
    "X_train = sc.fit_transform(X_train)\n",
    "X_test = sc.transform(X_test)"
   ]
  },
  {
   "cell_type": "code",
   "execution_count": 27,
   "metadata": {},
   "outputs": [],
   "source": [
    "net= MLPRegressor(solver='sgd', max_iter=2500, hidden_layer_sizes=300)\n",
    "test= net.fit(X_train, Y_train)"
   ]
  },
  {
   "cell_type": "code",
   "execution_count": 28,
   "metadata": {},
   "outputs": [],
   "source": [
    "pred=net.predict(X_test)"
   ]
  },
  {
   "cell_type": "code",
   "execution_count": 29,
   "metadata": {},
   "outputs": [
    {
     "data": {
      "text/plain": [
       "0.9004760032037045"
      ]
     },
     "execution_count": 29,
     "metadata": {},
     "output_type": "execute_result"
    }
   ],
   "source": [
    "skm.r2_score(pred, Y_test)"
   ]
  },
  {
   "cell_type": "code",
   "execution_count": 30,
   "metadata": {},
   "outputs": [
    {
     "data": {
      "text/plain": [
       "0.9113437167857258"
      ]
     },
     "execution_count": 30,
     "metadata": {},
     "output_type": "execute_result"
    }
   ],
   "source": [
    "net.score(X_test, Y_test)"
   ]
  },
  {
   "cell_type": "code",
   "execution_count": 31,
   "metadata": {},
   "outputs": [],
   "source": [
    "df4=data.loc[41001:55000]"
   ]
  },
  {
   "cell_type": "code",
   "execution_count": 32,
   "metadata": {},
   "outputs": [
    {
     "data": {
      "text/html": [
       "<div>\n",
       "<style scoped>\n",
       "    .dataframe tbody tr th:only-of-type {\n",
       "        vertical-align: middle;\n",
       "    }\n",
       "\n",
       "    .dataframe tbody tr th {\n",
       "        vertical-align: top;\n",
       "    }\n",
       "\n",
       "    .dataframe thead th {\n",
       "        text-align: right;\n",
       "    }\n",
       "</style>\n",
       "<table border=\"1\" class=\"dataframe\">\n",
       "  <thead>\n",
       "    <tr style=\"text-align: right;\">\n",
       "      <th></th>\n",
       "      <th>VendorID</th>\n",
       "      <th>pickup_day</th>\n",
       "      <th>minute_pickup</th>\n",
       "      <th>trip_duration</th>\n",
       "      <th>passenger_count</th>\n",
       "      <th>trip_distance</th>\n",
       "      <th>PULocationID</th>\n",
       "      <th>DOLocationID</th>\n",
       "      <th>payment_type</th>\n",
       "      <th>tip_amount</th>\n",
       "      <th>tolls_amount</th>\n",
       "    </tr>\n",
       "  </thead>\n",
       "  <tbody>\n",
       "    <tr>\n",
       "      <th>43354</th>\n",
       "      <td>2</td>\n",
       "      <td>1</td>\n",
       "      <td>471.57</td>\n",
       "      <td>5.03</td>\n",
       "      <td>2</td>\n",
       "      <td>0.75</td>\n",
       "      <td>48</td>\n",
       "      <td>230</td>\n",
       "      <td>1</td>\n",
       "      <td>1.00</td>\n",
       "      <td>0.0</td>\n",
       "    </tr>\n",
       "    <tr>\n",
       "      <th>43709</th>\n",
       "      <td>2</td>\n",
       "      <td>1</td>\n",
       "      <td>464.78</td>\n",
       "      <td>20.09</td>\n",
       "      <td>1</td>\n",
       "      <td>1.28</td>\n",
       "      <td>229</td>\n",
       "      <td>161</td>\n",
       "      <td>1</td>\n",
       "      <td>2.00</td>\n",
       "      <td>0.0</td>\n",
       "    </tr>\n",
       "    <tr>\n",
       "      <th>43099</th>\n",
       "      <td>2</td>\n",
       "      <td>1</td>\n",
       "      <td>454.22</td>\n",
       "      <td>2.01</td>\n",
       "      <td>6</td>\n",
       "      <td>0.46</td>\n",
       "      <td>166</td>\n",
       "      <td>166</td>\n",
       "      <td>2</td>\n",
       "      <td>0.00</td>\n",
       "      <td>0.0</td>\n",
       "    </tr>\n",
       "    <tr>\n",
       "      <th>52505</th>\n",
       "      <td>2</td>\n",
       "      <td>1</td>\n",
       "      <td>497.80</td>\n",
       "      <td>19.15</td>\n",
       "      <td>4</td>\n",
       "      <td>1.71</td>\n",
       "      <td>237</td>\n",
       "      <td>50</td>\n",
       "      <td>1</td>\n",
       "      <td>2.00</td>\n",
       "      <td>0.0</td>\n",
       "    </tr>\n",
       "    <tr>\n",
       "      <th>54789</th>\n",
       "      <td>1</td>\n",
       "      <td>1</td>\n",
       "      <td>508.05</td>\n",
       "      <td>8.12</td>\n",
       "      <td>1</td>\n",
       "      <td>1.00</td>\n",
       "      <td>162</td>\n",
       "      <td>233</td>\n",
       "      <td>1</td>\n",
       "      <td>1.95</td>\n",
       "      <td>0.0</td>\n",
       "    </tr>\n",
       "  </tbody>\n",
       "</table>\n",
       "</div>"
      ],
      "text/plain": [
       "       VendorID  pickup_day  minute_pickup  trip_duration  passenger_count  \\\n",
       "43354         2           1         471.57           5.03                2   \n",
       "43709         2           1         464.78          20.09                1   \n",
       "43099         2           1         454.22           2.01                6   \n",
       "52505         2           1         497.80          19.15                4   \n",
       "54789         1           1         508.05           8.12                1   \n",
       "\n",
       "       trip_distance  PULocationID  DOLocationID  payment_type  tip_amount  \\\n",
       "43354           0.75            48           230             1        1.00   \n",
       "43709           1.28           229           161             1        2.00   \n",
       "43099           0.46           166           166             2        0.00   \n",
       "52505           1.71           237            50             1        2.00   \n",
       "54789           1.00           162           233             1        1.95   \n",
       "\n",
       "       tolls_amount  \n",
       "43354           0.0  \n",
       "43709           0.0  \n",
       "43099           0.0  \n",
       "52505           0.0  \n",
       "54789           0.0  "
      ]
     },
     "execution_count": 32,
     "metadata": {},
     "output_type": "execute_result"
    }
   ],
   "source": [
    "Y= df4.fare_amount\n",
    "X= df4.drop(['total_amount', 'pickup_time', 'dropoff_time','store_and_fwd_flag','fare_amount','mta_tax', 'improvement_surcharge', 'extra','RatecodeID','minute_dropoff','dropoff_day'], axis=1)\n",
    "X_test, X_train, Y_test, Y_train = train_test_split(X, Y, test_size=0.3, random_state=123)\n",
    "X_test.head()"
   ]
  },
  {
   "cell_type": "code",
   "execution_count": 33,
   "metadata": {},
   "outputs": [],
   "source": [
    "X_train = sc.fit_transform(X_train)\n",
    "X_test = sc.transform(X_test)"
   ]
  },
  {
   "cell_type": "code",
   "execution_count": 34,
   "metadata": {},
   "outputs": [],
   "source": [
    "net= MLPRegressor(solver='sgd', max_iter=2500, hidden_layer_sizes=300)\n",
    "test= net.fit(X_train, Y_train)"
   ]
  },
  {
   "cell_type": "code",
   "execution_count": 35,
   "metadata": {},
   "outputs": [],
   "source": [
    "pred=net.predict(X_test)"
   ]
  },
  {
   "cell_type": "code",
   "execution_count": 36,
   "metadata": {},
   "outputs": [
    {
     "data": {
      "text/plain": [
       "0.872342665816004"
      ]
     },
     "execution_count": 36,
     "metadata": {},
     "output_type": "execute_result"
    }
   ],
   "source": [
    "skm.r2_score(pred, Y_test)"
   ]
  },
  {
   "cell_type": "code",
   "execution_count": 37,
   "metadata": {},
   "outputs": [
    {
     "data": {
      "text/plain": [
       "0.8696416035823988"
      ]
     },
     "execution_count": 37,
     "metadata": {},
     "output_type": "execute_result"
    }
   ],
   "source": [
    "net.score(X_test, Y_test)"
   ]
  },
  {
   "cell_type": "code",
   "execution_count": 38,
   "metadata": {},
   "outputs": [],
   "source": [
    "df5=data.loc[55001:70000]"
   ]
  },
  {
   "cell_type": "code",
   "execution_count": 39,
   "metadata": {
    "scrolled": false
   },
   "outputs": [
    {
     "data": {
      "text/html": [
       "<div>\n",
       "<style scoped>\n",
       "    .dataframe tbody tr th:only-of-type {\n",
       "        vertical-align: middle;\n",
       "    }\n",
       "\n",
       "    .dataframe tbody tr th {\n",
       "        vertical-align: top;\n",
       "    }\n",
       "\n",
       "    .dataframe thead th {\n",
       "        text-align: right;\n",
       "    }\n",
       "</style>\n",
       "<table border=\"1\" class=\"dataframe\">\n",
       "  <thead>\n",
       "    <tr style=\"text-align: right;\">\n",
       "      <th></th>\n",
       "      <th>VendorID</th>\n",
       "      <th>pickup_day</th>\n",
       "      <th>minute_pickup</th>\n",
       "      <th>trip_duration</th>\n",
       "      <th>passenger_count</th>\n",
       "      <th>trip_distance</th>\n",
       "      <th>PULocationID</th>\n",
       "      <th>DOLocationID</th>\n",
       "      <th>payment_type</th>\n",
       "      <th>tip_amount</th>\n",
       "      <th>tolls_amount</th>\n",
       "    </tr>\n",
       "  </thead>\n",
       "  <tbody>\n",
       "    <tr>\n",
       "      <th>60243</th>\n",
       "      <td>2</td>\n",
       "      <td>1</td>\n",
       "      <td>500.87</td>\n",
       "      <td>20.31</td>\n",
       "      <td>1</td>\n",
       "      <td>2.96</td>\n",
       "      <td>234</td>\n",
       "      <td>141</td>\n",
       "      <td>1</td>\n",
       "      <td>2.00</td>\n",
       "      <td>0.0</td>\n",
       "    </tr>\n",
       "    <tr>\n",
       "      <th>67676</th>\n",
       "      <td>2</td>\n",
       "      <td>1</td>\n",
       "      <td>518.13</td>\n",
       "      <td>24.42</td>\n",
       "      <td>1</td>\n",
       "      <td>5.45</td>\n",
       "      <td>162</td>\n",
       "      <td>261</td>\n",
       "      <td>2</td>\n",
       "      <td>0.00</td>\n",
       "      <td>0.0</td>\n",
       "    </tr>\n",
       "    <tr>\n",
       "      <th>61925</th>\n",
       "      <td>1</td>\n",
       "      <td>1</td>\n",
       "      <td>492.80</td>\n",
       "      <td>9.58</td>\n",
       "      <td>1</td>\n",
       "      <td>1.00</td>\n",
       "      <td>162</td>\n",
       "      <td>164</td>\n",
       "      <td>1</td>\n",
       "      <td>1.65</td>\n",
       "      <td>0.0</td>\n",
       "    </tr>\n",
       "    <tr>\n",
       "      <th>67597</th>\n",
       "      <td>1</td>\n",
       "      <td>1</td>\n",
       "      <td>528.88</td>\n",
       "      <td>19.44</td>\n",
       "      <td>1</td>\n",
       "      <td>1.70</td>\n",
       "      <td>236</td>\n",
       "      <td>161</td>\n",
       "      <td>1</td>\n",
       "      <td>2.00</td>\n",
       "      <td>0.0</td>\n",
       "    </tr>\n",
       "    <tr>\n",
       "      <th>67570</th>\n",
       "      <td>2</td>\n",
       "      <td>1</td>\n",
       "      <td>510.37</td>\n",
       "      <td>6.91</td>\n",
       "      <td>1</td>\n",
       "      <td>1.11</td>\n",
       "      <td>162</td>\n",
       "      <td>234</td>\n",
       "      <td>1</td>\n",
       "      <td>1.56</td>\n",
       "      <td>0.0</td>\n",
       "    </tr>\n",
       "  </tbody>\n",
       "</table>\n",
       "</div>"
      ],
      "text/plain": [
       "       VendorID  pickup_day  minute_pickup  trip_duration  passenger_count  \\\n",
       "60243         2           1         500.87          20.31                1   \n",
       "67676         2           1         518.13          24.42                1   \n",
       "61925         1           1         492.80           9.58                1   \n",
       "67597         1           1         528.88          19.44                1   \n",
       "67570         2           1         510.37           6.91                1   \n",
       "\n",
       "       trip_distance  PULocationID  DOLocationID  payment_type  tip_amount  \\\n",
       "60243           2.96           234           141             1        2.00   \n",
       "67676           5.45           162           261             2        0.00   \n",
       "61925           1.00           162           164             1        1.65   \n",
       "67597           1.70           236           161             1        2.00   \n",
       "67570           1.11           162           234             1        1.56   \n",
       "\n",
       "       tolls_amount  \n",
       "60243           0.0  \n",
       "67676           0.0  \n",
       "61925           0.0  \n",
       "67597           0.0  \n",
       "67570           0.0  "
      ]
     },
     "execution_count": 39,
     "metadata": {},
     "output_type": "execute_result"
    }
   ],
   "source": [
    "Y= df5.fare_amount\n",
    "X= df5.drop(['total_amount', 'pickup_time', 'dropoff_time','store_and_fwd_flag','fare_amount','mta_tax', 'improvement_surcharge', 'extra','RatecodeID','minute_dropoff','dropoff_day'], axis=1)\n",
    "X_test, X_train, Y_test, Y_train = train_test_split(X, Y, test_size=0.3, random_state=123)\n",
    "X_test.head()"
   ]
  },
  {
   "cell_type": "code",
   "execution_count": 40,
   "metadata": {},
   "outputs": [],
   "source": [
    "X_train = sc.fit_transform(X_train)\n",
    "X_test = sc.transform(X_test)"
   ]
  },
  {
   "cell_type": "code",
   "execution_count": 41,
   "metadata": {},
   "outputs": [],
   "source": [
    "net= MLPRegressor(solver='sgd', max_iter=2500, hidden_layer_sizes=300)\n",
    "test= net.fit(X_train, Y_train)"
   ]
  },
  {
   "cell_type": "code",
   "execution_count": 42,
   "metadata": {},
   "outputs": [],
   "source": [
    "pred=net.predict(X_test)"
   ]
  },
  {
   "cell_type": "code",
   "execution_count": 43,
   "metadata": {},
   "outputs": [
    {
     "data": {
      "text/plain": [
       "0.8603467211362432"
      ]
     },
     "execution_count": 43,
     "metadata": {},
     "output_type": "execute_result"
    }
   ],
   "source": [
    "net.score(X_test, Y_test)"
   ]
  },
  {
   "cell_type": "code",
   "execution_count": 44,
   "metadata": {},
   "outputs": [
    {
     "data": {
      "text/plain": [
       "0.85342492277573"
      ]
     },
     "execution_count": 44,
     "metadata": {},
     "output_type": "execute_result"
    }
   ],
   "source": [
    "skm.r2_score(pred, Y_test)"
   ]
  },
  {
   "cell_type": "code",
   "execution_count": 9,
   "metadata": {},
   "outputs": [],
   "source": [
    "df6=data.loc[70001:85000]"
   ]
  },
  {
   "cell_type": "code",
   "execution_count": 10,
   "metadata": {},
   "outputs": [
    {
     "data": {
      "text/html": [
       "<div>\n",
       "<style scoped>\n",
       "    .dataframe tbody tr th:only-of-type {\n",
       "        vertical-align: middle;\n",
       "    }\n",
       "\n",
       "    .dataframe tbody tr th {\n",
       "        vertical-align: top;\n",
       "    }\n",
       "\n",
       "    .dataframe thead th {\n",
       "        text-align: right;\n",
       "    }\n",
       "</style>\n",
       "<table border=\"1\" class=\"dataframe\">\n",
       "  <thead>\n",
       "    <tr style=\"text-align: right;\">\n",
       "      <th></th>\n",
       "      <th>VendorID</th>\n",
       "      <th>pickup_day</th>\n",
       "      <th>minute_pickup</th>\n",
       "      <th>trip_duration</th>\n",
       "      <th>passenger_count</th>\n",
       "      <th>trip_distance</th>\n",
       "      <th>PULocationID</th>\n",
       "      <th>DOLocationID</th>\n",
       "      <th>payment_type</th>\n",
       "      <th>tip_amount</th>\n",
       "      <th>tolls_amount</th>\n",
       "    </tr>\n",
       "  </thead>\n",
       "  <tbody>\n",
       "    <tr>\n",
       "      <th>75243</th>\n",
       "      <td>2</td>\n",
       "      <td>1</td>\n",
       "      <td>569.43</td>\n",
       "      <td>57.32</td>\n",
       "      <td>1</td>\n",
       "      <td>10.61</td>\n",
       "      <td>138</td>\n",
       "      <td>107</td>\n",
       "      <td>1</td>\n",
       "      <td>10.45</td>\n",
       "      <td>0.0</td>\n",
       "    </tr>\n",
       "    <tr>\n",
       "      <th>82676</th>\n",
       "      <td>1</td>\n",
       "      <td>1</td>\n",
       "      <td>553.83</td>\n",
       "      <td>9.20</td>\n",
       "      <td>1</td>\n",
       "      <td>1.10</td>\n",
       "      <td>100</td>\n",
       "      <td>50</td>\n",
       "      <td>1</td>\n",
       "      <td>2.45</td>\n",
       "      <td>0.0</td>\n",
       "    </tr>\n",
       "    <tr>\n",
       "      <th>76925</th>\n",
       "      <td>2</td>\n",
       "      <td>1</td>\n",
       "      <td>583.50</td>\n",
       "      <td>2.37</td>\n",
       "      <td>1</td>\n",
       "      <td>0.49</td>\n",
       "      <td>50</td>\n",
       "      <td>246</td>\n",
       "      <td>1</td>\n",
       "      <td>1.20</td>\n",
       "      <td>0.0</td>\n",
       "    </tr>\n",
       "    <tr>\n",
       "      <th>82597</th>\n",
       "      <td>1</td>\n",
       "      <td>1</td>\n",
       "      <td>542.77</td>\n",
       "      <td>22.50</td>\n",
       "      <td>1</td>\n",
       "      <td>2.40</td>\n",
       "      <td>236</td>\n",
       "      <td>162</td>\n",
       "      <td>2</td>\n",
       "      <td>0.00</td>\n",
       "      <td>0.0</td>\n",
       "    </tr>\n",
       "    <tr>\n",
       "      <th>82570</th>\n",
       "      <td>1</td>\n",
       "      <td>1</td>\n",
       "      <td>558.72</td>\n",
       "      <td>17.08</td>\n",
       "      <td>1</td>\n",
       "      <td>1.40</td>\n",
       "      <td>90</td>\n",
       "      <td>100</td>\n",
       "      <td>1</td>\n",
       "      <td>2.00</td>\n",
       "      <td>0.0</td>\n",
       "    </tr>\n",
       "  </tbody>\n",
       "</table>\n",
       "</div>"
      ],
      "text/plain": [
       "       VendorID  pickup_day  minute_pickup  trip_duration  passenger_count  \\\n",
       "75243         2           1         569.43          57.32                1   \n",
       "82676         1           1         553.83           9.20                1   \n",
       "76925         2           1         583.50           2.37                1   \n",
       "82597         1           1         542.77          22.50                1   \n",
       "82570         1           1         558.72          17.08                1   \n",
       "\n",
       "       trip_distance  PULocationID  DOLocationID  payment_type  tip_amount  \\\n",
       "75243          10.61           138           107             1       10.45   \n",
       "82676           1.10           100            50             1        2.45   \n",
       "76925           0.49            50           246             1        1.20   \n",
       "82597           2.40           236           162             2        0.00   \n",
       "82570           1.40            90           100             1        2.00   \n",
       "\n",
       "       tolls_amount  \n",
       "75243           0.0  \n",
       "82676           0.0  \n",
       "76925           0.0  \n",
       "82597           0.0  \n",
       "82570           0.0  "
      ]
     },
     "execution_count": 10,
     "metadata": {},
     "output_type": "execute_result"
    }
   ],
   "source": [
    "Y= df6.fare_amount\n",
    "X= df6.drop(['total_amount', 'pickup_time', 'dropoff_time','store_and_fwd_flag','fare_amount','mta_tax', 'improvement_surcharge', 'extra','RatecodeID','minute_dropoff','dropoff_day'], axis=1)\n",
    "X_test, X_train, Y_test, Y_train = train_test_split(X, Y, test_size=0.3, random_state=123)\n",
    "X_test.head()"
   ]
  },
  {
   "cell_type": "code",
   "execution_count": 11,
   "metadata": {},
   "outputs": [],
   "source": [
    "X_train = sc.fit_transform(X_train)\n",
    "X_test = sc.transform(X_test)"
   ]
  },
  {
   "cell_type": "code",
   "execution_count": 12,
   "metadata": {},
   "outputs": [],
   "source": [
    "net= MLPRegressor(solver='sgd', max_iter=2500, hidden_layer_sizes=300)\n",
    "test= net.fit(X_train, Y_train)"
   ]
  },
  {
   "cell_type": "code",
   "execution_count": 13,
   "metadata": {},
   "outputs": [],
   "source": [
    "pred=net.predict(X_test)"
   ]
  },
  {
   "cell_type": "code",
   "execution_count": 14,
   "metadata": {},
   "outputs": [
    {
     "data": {
      "text/plain": [
       "0.9366760168960606"
      ]
     },
     "execution_count": 14,
     "metadata": {},
     "output_type": "execute_result"
    }
   ],
   "source": [
    "net.score(X_test, Y_test)"
   ]
  },
  {
   "cell_type": "code",
   "execution_count": 17,
   "metadata": {},
   "outputs": [
    {
     "data": {
      "text/plain": [
       "0.9338381647110545"
      ]
     },
     "execution_count": 17,
     "metadata": {},
     "output_type": "execute_result"
    }
   ],
   "source": [
    "skm.r2_score(pred, Y_test)"
   ]
  },
  {
   "cell_type": "code",
   "execution_count": 20,
   "metadata": {},
   "outputs": [],
   "source": [
    "df7=data.loc[85001:100000]"
   ]
  },
  {
   "cell_type": "code",
   "execution_count": 21,
   "metadata": {},
   "outputs": [
    {
     "data": {
      "text/html": [
       "<div>\n",
       "<style scoped>\n",
       "    .dataframe tbody tr th:only-of-type {\n",
       "        vertical-align: middle;\n",
       "    }\n",
       "\n",
       "    .dataframe tbody tr th {\n",
       "        vertical-align: top;\n",
       "    }\n",
       "\n",
       "    .dataframe thead th {\n",
       "        text-align: right;\n",
       "    }\n",
       "</style>\n",
       "<table border=\"1\" class=\"dataframe\">\n",
       "  <thead>\n",
       "    <tr style=\"text-align: right;\">\n",
       "      <th></th>\n",
       "      <th>VendorID</th>\n",
       "      <th>pickup_day</th>\n",
       "      <th>minute_pickup</th>\n",
       "      <th>trip_duration</th>\n",
       "      <th>passenger_count</th>\n",
       "      <th>trip_distance</th>\n",
       "      <th>PULocationID</th>\n",
       "      <th>DOLocationID</th>\n",
       "      <th>payment_type</th>\n",
       "      <th>tip_amount</th>\n",
       "      <th>tolls_amount</th>\n",
       "    </tr>\n",
       "  </thead>\n",
       "  <tbody>\n",
       "    <tr>\n",
       "      <th>90243</th>\n",
       "      <td>2</td>\n",
       "      <td>1</td>\n",
       "      <td>658.43</td>\n",
       "      <td>5.67</td>\n",
       "      <td>1</td>\n",
       "      <td>0.52</td>\n",
       "      <td>161</td>\n",
       "      <td>161</td>\n",
       "      <td>2</td>\n",
       "      <td>0.00</td>\n",
       "      <td>0.0</td>\n",
       "    </tr>\n",
       "    <tr>\n",
       "      <th>97676</th>\n",
       "      <td>2</td>\n",
       "      <td>1</td>\n",
       "      <td>650.52</td>\n",
       "      <td>12.11</td>\n",
       "      <td>1</td>\n",
       "      <td>1.46</td>\n",
       "      <td>232</td>\n",
       "      <td>125</td>\n",
       "      <td>2</td>\n",
       "      <td>0.00</td>\n",
       "      <td>0.0</td>\n",
       "    </tr>\n",
       "    <tr>\n",
       "      <th>91925</th>\n",
       "      <td>2</td>\n",
       "      <td>1</td>\n",
       "      <td>613.47</td>\n",
       "      <td>3.01</td>\n",
       "      <td>3</td>\n",
       "      <td>0.58</td>\n",
       "      <td>262</td>\n",
       "      <td>75</td>\n",
       "      <td>2</td>\n",
       "      <td>0.00</td>\n",
       "      <td>0.0</td>\n",
       "    </tr>\n",
       "    <tr>\n",
       "      <th>97597</th>\n",
       "      <td>2</td>\n",
       "      <td>1</td>\n",
       "      <td>641.52</td>\n",
       "      <td>7.11</td>\n",
       "      <td>1</td>\n",
       "      <td>0.71</td>\n",
       "      <td>249</td>\n",
       "      <td>90</td>\n",
       "      <td>1</td>\n",
       "      <td>1.36</td>\n",
       "      <td>0.0</td>\n",
       "    </tr>\n",
       "    <tr>\n",
       "      <th>97570</th>\n",
       "      <td>1</td>\n",
       "      <td>1</td>\n",
       "      <td>601.23</td>\n",
       "      <td>47.30</td>\n",
       "      <td>1</td>\n",
       "      <td>5.20</td>\n",
       "      <td>151</td>\n",
       "      <td>234</td>\n",
       "      <td>1</td>\n",
       "      <td>6.15</td>\n",
       "      <td>0.0</td>\n",
       "    </tr>\n",
       "  </tbody>\n",
       "</table>\n",
       "</div>"
      ],
      "text/plain": [
       "       VendorID  pickup_day  minute_pickup  trip_duration  passenger_count  \\\n",
       "90243         2           1         658.43           5.67                1   \n",
       "97676         2           1         650.52          12.11                1   \n",
       "91925         2           1         613.47           3.01                3   \n",
       "97597         2           1         641.52           7.11                1   \n",
       "97570         1           1         601.23          47.30                1   \n",
       "\n",
       "       trip_distance  PULocationID  DOLocationID  payment_type  tip_amount  \\\n",
       "90243           0.52           161           161             2        0.00   \n",
       "97676           1.46           232           125             2        0.00   \n",
       "91925           0.58           262            75             2        0.00   \n",
       "97597           0.71           249            90             1        1.36   \n",
       "97570           5.20           151           234             1        6.15   \n",
       "\n",
       "       tolls_amount  \n",
       "90243           0.0  \n",
       "97676           0.0  \n",
       "91925           0.0  \n",
       "97597           0.0  \n",
       "97570           0.0  "
      ]
     },
     "execution_count": 21,
     "metadata": {},
     "output_type": "execute_result"
    }
   ],
   "source": [
    "Y= df7.fare_amount\n",
    "X= df7.drop(['total_amount', 'pickup_time', 'dropoff_time','store_and_fwd_flag','fare_amount','mta_tax', 'improvement_surcharge', 'extra','RatecodeID','minute_dropoff','dropoff_day'], axis=1)\n",
    "X_test, X_train, Y_test, Y_train = train_test_split(X, Y, test_size=0.3, random_state=123)\n",
    "X_test.head()"
   ]
  },
  {
   "cell_type": "code",
   "execution_count": 22,
   "metadata": {},
   "outputs": [],
   "source": [
    "X_train = sc.fit_transform(X_train)\n",
    "X_test = sc.transform(X_test)"
   ]
  },
  {
   "cell_type": "code",
   "execution_count": 23,
   "metadata": {},
   "outputs": [],
   "source": [
    "net= MLPRegressor(solver='sgd', max_iter=2500, hidden_layer_sizes=300)\n",
    "test= net.fit(X_train, Y_train)"
   ]
  },
  {
   "cell_type": "code",
   "execution_count": 24,
   "metadata": {},
   "outputs": [],
   "source": [
    "pred=net.predict(X_test)"
   ]
  },
  {
   "cell_type": "code",
   "execution_count": 25,
   "metadata": {},
   "outputs": [
    {
     "data": {
      "text/plain": [
       "0.928237529271955"
      ]
     },
     "execution_count": 25,
     "metadata": {},
     "output_type": "execute_result"
    }
   ],
   "source": [
    "net.score(X_test, Y_test)"
   ]
  },
  {
   "cell_type": "code",
   "execution_count": 26,
   "metadata": {},
   "outputs": [
    {
     "data": {
      "text/plain": [
       "0.920615538963811"
      ]
     },
     "execution_count": 26,
     "metadata": {},
     "output_type": "execute_result"
    }
   ],
   "source": [
    "skm.r2_score(pred, Y_test)"
   ]
  },
  {
   "cell_type": "code",
   "execution_count": 27,
   "metadata": {},
   "outputs": [],
   "source": [
    "df8=data.loc[100001:115000]"
   ]
  },
  {
   "cell_type": "code",
   "execution_count": 28,
   "metadata": {},
   "outputs": [
    {
     "data": {
      "text/html": [
       "<div>\n",
       "<style scoped>\n",
       "    .dataframe tbody tr th:only-of-type {\n",
       "        vertical-align: middle;\n",
       "    }\n",
       "\n",
       "    .dataframe tbody tr th {\n",
       "        vertical-align: top;\n",
       "    }\n",
       "\n",
       "    .dataframe thead th {\n",
       "        text-align: right;\n",
       "    }\n",
       "</style>\n",
       "<table border=\"1\" class=\"dataframe\">\n",
       "  <thead>\n",
       "    <tr style=\"text-align: right;\">\n",
       "      <th></th>\n",
       "      <th>VendorID</th>\n",
       "      <th>pickup_day</th>\n",
       "      <th>minute_pickup</th>\n",
       "      <th>trip_duration</th>\n",
       "      <th>passenger_count</th>\n",
       "      <th>trip_distance</th>\n",
       "      <th>PULocationID</th>\n",
       "      <th>DOLocationID</th>\n",
       "      <th>payment_type</th>\n",
       "      <th>tip_amount</th>\n",
       "      <th>tolls_amount</th>\n",
       "    </tr>\n",
       "  </thead>\n",
       "  <tbody>\n",
       "    <tr>\n",
       "      <th>105243</th>\n",
       "      <td>1</td>\n",
       "      <td>1</td>\n",
       "      <td>661.47</td>\n",
       "      <td>16.78</td>\n",
       "      <td>1</td>\n",
       "      <td>2.40</td>\n",
       "      <td>143</td>\n",
       "      <td>236</td>\n",
       "      <td>2</td>\n",
       "      <td>0.00</td>\n",
       "      <td>0.0</td>\n",
       "    </tr>\n",
       "    <tr>\n",
       "      <th>112676</th>\n",
       "      <td>2</td>\n",
       "      <td>1</td>\n",
       "      <td>711.52</td>\n",
       "      <td>7.60</td>\n",
       "      <td>5</td>\n",
       "      <td>1.04</td>\n",
       "      <td>262</td>\n",
       "      <td>140</td>\n",
       "      <td>1</td>\n",
       "      <td>1.17</td>\n",
       "      <td>0.0</td>\n",
       "    </tr>\n",
       "    <tr>\n",
       "      <th>106925</th>\n",
       "      <td>2</td>\n",
       "      <td>1</td>\n",
       "      <td>684.87</td>\n",
       "      <td>8.81</td>\n",
       "      <td>1</td>\n",
       "      <td>1.46</td>\n",
       "      <td>151</td>\n",
       "      <td>166</td>\n",
       "      <td>2</td>\n",
       "      <td>0.00</td>\n",
       "      <td>0.0</td>\n",
       "    </tr>\n",
       "    <tr>\n",
       "      <th>112597</th>\n",
       "      <td>2</td>\n",
       "      <td>1</td>\n",
       "      <td>664.60</td>\n",
       "      <td>18.38</td>\n",
       "      <td>1</td>\n",
       "      <td>1.97</td>\n",
       "      <td>239</td>\n",
       "      <td>236</td>\n",
       "      <td>1</td>\n",
       "      <td>0.00</td>\n",
       "      <td>0.0</td>\n",
       "    </tr>\n",
       "    <tr>\n",
       "      <th>112570</th>\n",
       "      <td>1</td>\n",
       "      <td>1</td>\n",
       "      <td>705.40</td>\n",
       "      <td>15.88</td>\n",
       "      <td>2</td>\n",
       "      <td>2.00</td>\n",
       "      <td>237</td>\n",
       "      <td>239</td>\n",
       "      <td>1</td>\n",
       "      <td>2.56</td>\n",
       "      <td>0.0</td>\n",
       "    </tr>\n",
       "  </tbody>\n",
       "</table>\n",
       "</div>"
      ],
      "text/plain": [
       "        VendorID  pickup_day  minute_pickup  trip_duration  passenger_count  \\\n",
       "105243         1           1         661.47          16.78                1   \n",
       "112676         2           1         711.52           7.60                5   \n",
       "106925         2           1         684.87           8.81                1   \n",
       "112597         2           1         664.60          18.38                1   \n",
       "112570         1           1         705.40          15.88                2   \n",
       "\n",
       "        trip_distance  PULocationID  DOLocationID  payment_type  tip_amount  \\\n",
       "105243           2.40           143           236             2        0.00   \n",
       "112676           1.04           262           140             1        1.17   \n",
       "106925           1.46           151           166             2        0.00   \n",
       "112597           1.97           239           236             1        0.00   \n",
       "112570           2.00           237           239             1        2.56   \n",
       "\n",
       "        tolls_amount  \n",
       "105243           0.0  \n",
       "112676           0.0  \n",
       "106925           0.0  \n",
       "112597           0.0  \n",
       "112570           0.0  "
      ]
     },
     "execution_count": 28,
     "metadata": {},
     "output_type": "execute_result"
    }
   ],
   "source": [
    "Y= df8.fare_amount\n",
    "X= df8.drop(['total_amount', 'pickup_time', 'dropoff_time','store_and_fwd_flag','fare_amount','mta_tax', 'improvement_surcharge', 'extra','RatecodeID','minute_dropoff','dropoff_day'], axis=1)\n",
    "X_test, X_train, Y_test, Y_train = train_test_split(X, Y, test_size=0.3, random_state=123)\n",
    "X_test.head()"
   ]
  },
  {
   "cell_type": "code",
   "execution_count": 29,
   "metadata": {},
   "outputs": [],
   "source": [
    "X_train = sc.fit_transform(X_train)\n",
    "X_test = sc.transform(X_test)"
   ]
  },
  {
   "cell_type": "code",
   "execution_count": 30,
   "metadata": {},
   "outputs": [],
   "source": [
    "net= MLPRegressor(solver='sgd', max_iter=2500, hidden_layer_sizes=300)\n",
    "test= net.fit(X_train, Y_train)"
   ]
  },
  {
   "cell_type": "code",
   "execution_count": 31,
   "metadata": {},
   "outputs": [],
   "source": [
    "pred=net.predict(X_test)"
   ]
  },
  {
   "cell_type": "code",
   "execution_count": 32,
   "metadata": {},
   "outputs": [
    {
     "data": {
      "text/plain": [
       "0.8910535082474211"
      ]
     },
     "execution_count": 32,
     "metadata": {},
     "output_type": "execute_result"
    }
   ],
   "source": [
    "net.score(X_test, Y_test)"
   ]
  },
  {
   "cell_type": "code",
   "execution_count": 33,
   "metadata": {},
   "outputs": [
    {
     "data": {
      "text/plain": [
       "0.8673550565096182"
      ]
     },
     "execution_count": 33,
     "metadata": {},
     "output_type": "execute_result"
    }
   ],
   "source": [
    "skm.r2_score(pred, Y_test)"
   ]
  },
  {
   "cell_type": "code",
   "execution_count": 34,
   "metadata": {},
   "outputs": [],
   "source": [
    "df9=data.loc[115001:130000]"
   ]
  },
  {
   "cell_type": "code",
   "execution_count": 35,
   "metadata": {},
   "outputs": [
    {
     "data": {
      "text/html": [
       "<div>\n",
       "<style scoped>\n",
       "    .dataframe tbody tr th:only-of-type {\n",
       "        vertical-align: middle;\n",
       "    }\n",
       "\n",
       "    .dataframe tbody tr th {\n",
       "        vertical-align: top;\n",
       "    }\n",
       "\n",
       "    .dataframe thead th {\n",
       "        text-align: right;\n",
       "    }\n",
       "</style>\n",
       "<table border=\"1\" class=\"dataframe\">\n",
       "  <thead>\n",
       "    <tr style=\"text-align: right;\">\n",
       "      <th></th>\n",
       "      <th>VendorID</th>\n",
       "      <th>pickup_day</th>\n",
       "      <th>minute_pickup</th>\n",
       "      <th>trip_duration</th>\n",
       "      <th>passenger_count</th>\n",
       "      <th>trip_distance</th>\n",
       "      <th>PULocationID</th>\n",
       "      <th>DOLocationID</th>\n",
       "      <th>payment_type</th>\n",
       "      <th>tip_amount</th>\n",
       "      <th>tolls_amount</th>\n",
       "    </tr>\n",
       "  </thead>\n",
       "  <tbody>\n",
       "    <tr>\n",
       "      <th>120243</th>\n",
       "      <td>1</td>\n",
       "      <td>1</td>\n",
       "      <td>764.72</td>\n",
       "      <td>14.38</td>\n",
       "      <td>1</td>\n",
       "      <td>1.30</td>\n",
       "      <td>142</td>\n",
       "      <td>161</td>\n",
       "      <td>1</td>\n",
       "      <td>2.25</td>\n",
       "      <td>0.00</td>\n",
       "    </tr>\n",
       "    <tr>\n",
       "      <th>127676</th>\n",
       "      <td>1</td>\n",
       "      <td>1</td>\n",
       "      <td>722.93</td>\n",
       "      <td>13.54</td>\n",
       "      <td>3</td>\n",
       "      <td>1.30</td>\n",
       "      <td>262</td>\n",
       "      <td>141</td>\n",
       "      <td>1</td>\n",
       "      <td>2.00</td>\n",
       "      <td>0.00</td>\n",
       "    </tr>\n",
       "    <tr>\n",
       "      <th>121925</th>\n",
       "      <td>1</td>\n",
       "      <td>1</td>\n",
       "      <td>724.83</td>\n",
       "      <td>19.15</td>\n",
       "      <td>1</td>\n",
       "      <td>1.90</td>\n",
       "      <td>236</td>\n",
       "      <td>142</td>\n",
       "      <td>2</td>\n",
       "      <td>0.00</td>\n",
       "      <td>0.00</td>\n",
       "    </tr>\n",
       "    <tr>\n",
       "      <th>127597</th>\n",
       "      <td>2</td>\n",
       "      <td>1</td>\n",
       "      <td>745.13</td>\n",
       "      <td>28.50</td>\n",
       "      <td>1</td>\n",
       "      <td>4.50</td>\n",
       "      <td>224</td>\n",
       "      <td>236</td>\n",
       "      <td>2</td>\n",
       "      <td>0.00</td>\n",
       "      <td>0.00</td>\n",
       "    </tr>\n",
       "    <tr>\n",
       "      <th>127570</th>\n",
       "      <td>2</td>\n",
       "      <td>1</td>\n",
       "      <td>747.50</td>\n",
       "      <td>45.78</td>\n",
       "      <td>1</td>\n",
       "      <td>9.67</td>\n",
       "      <td>138</td>\n",
       "      <td>230</td>\n",
       "      <td>1</td>\n",
       "      <td>10.76</td>\n",
       "      <td>5.76</td>\n",
       "    </tr>\n",
       "  </tbody>\n",
       "</table>\n",
       "</div>"
      ],
      "text/plain": [
       "        VendorID  pickup_day  minute_pickup  trip_duration  passenger_count  \\\n",
       "120243         1           1         764.72          14.38                1   \n",
       "127676         1           1         722.93          13.54                3   \n",
       "121925         1           1         724.83          19.15                1   \n",
       "127597         2           1         745.13          28.50                1   \n",
       "127570         2           1         747.50          45.78                1   \n",
       "\n",
       "        trip_distance  PULocationID  DOLocationID  payment_type  tip_amount  \\\n",
       "120243           1.30           142           161             1        2.25   \n",
       "127676           1.30           262           141             1        2.00   \n",
       "121925           1.90           236           142             2        0.00   \n",
       "127597           4.50           224           236             2        0.00   \n",
       "127570           9.67           138           230             1       10.76   \n",
       "\n",
       "        tolls_amount  \n",
       "120243          0.00  \n",
       "127676          0.00  \n",
       "121925          0.00  \n",
       "127597          0.00  \n",
       "127570          5.76  "
      ]
     },
     "execution_count": 35,
     "metadata": {},
     "output_type": "execute_result"
    }
   ],
   "source": [
    "Y= df9.fare_amount\n",
    "X= df9.drop(['total_amount', 'pickup_time', 'dropoff_time','store_and_fwd_flag','fare_amount','mta_tax', 'improvement_surcharge', 'extra','RatecodeID','minute_dropoff','dropoff_day'], axis=1)\n",
    "X_test, X_train, Y_test, Y_train = train_test_split(X, Y, test_size=0.3, random_state=123)\n",
    "X_test.head()"
   ]
  },
  {
   "cell_type": "code",
   "execution_count": 36,
   "metadata": {},
   "outputs": [],
   "source": [
    "X_train = sc.fit_transform(X_train)\n",
    "X_test = sc.transform(X_test)"
   ]
  },
  {
   "cell_type": "code",
   "execution_count": 37,
   "metadata": {},
   "outputs": [],
   "source": [
    "net= MLPRegressor(solver='sgd', max_iter=2500, hidden_layer_sizes=300)\n",
    "test= net.fit(X_train, Y_train)"
   ]
  },
  {
   "cell_type": "code",
   "execution_count": 38,
   "metadata": {},
   "outputs": [],
   "source": [
    "pred=net.predict(X_test)"
   ]
  },
  {
   "cell_type": "code",
   "execution_count": 39,
   "metadata": {},
   "outputs": [
    {
     "data": {
      "text/plain": [
       "0.9496613674119596"
      ]
     },
     "execution_count": 39,
     "metadata": {},
     "output_type": "execute_result"
    }
   ],
   "source": [
    "net.score(X_test, Y_test)"
   ]
  },
  {
   "cell_type": "code",
   "execution_count": 40,
   "metadata": {},
   "outputs": [
    {
     "data": {
      "text/plain": [
       "0.9470690788820203"
      ]
     },
     "execution_count": 40,
     "metadata": {},
     "output_type": "execute_result"
    }
   ],
   "source": [
    "skm.r2_score(pred, Y_test)"
   ]
  },
  {
   "cell_type": "code",
   "execution_count": 22,
   "metadata": {},
   "outputs": [],
   "source": [
    "df10=data.loc[130001:146000]"
   ]
  },
  {
   "cell_type": "code",
   "execution_count": 23,
   "metadata": {},
   "outputs": [
    {
     "data": {
      "text/html": [
       "<div>\n",
       "<style scoped>\n",
       "    .dataframe tbody tr th:only-of-type {\n",
       "        vertical-align: middle;\n",
       "    }\n",
       "\n",
       "    .dataframe tbody tr th {\n",
       "        vertical-align: top;\n",
       "    }\n",
       "\n",
       "    .dataframe thead th {\n",
       "        text-align: right;\n",
       "    }\n",
       "</style>\n",
       "<table border=\"1\" class=\"dataframe\">\n",
       "  <thead>\n",
       "    <tr style=\"text-align: right;\">\n",
       "      <th></th>\n",
       "      <th>VendorID</th>\n",
       "      <th>pickup_day</th>\n",
       "      <th>minute_pickup</th>\n",
       "      <th>trip_duration</th>\n",
       "      <th>passenger_count</th>\n",
       "      <th>trip_distance</th>\n",
       "      <th>PULocationID</th>\n",
       "      <th>DOLocationID</th>\n",
       "      <th>payment_type</th>\n",
       "      <th>tip_amount</th>\n",
       "      <th>tolls_amount</th>\n",
       "    </tr>\n",
       "  </thead>\n",
       "  <tbody>\n",
       "    <tr>\n",
       "      <th>136358</th>\n",
       "      <td>1</td>\n",
       "      <td>1</td>\n",
       "      <td>818.32</td>\n",
       "      <td>8.80</td>\n",
       "      <td>1</td>\n",
       "      <td>1.30</td>\n",
       "      <td>125</td>\n",
       "      <td>261</td>\n",
       "      <td>1</td>\n",
       "      <td>1.75</td>\n",
       "      <td>0.0</td>\n",
       "    </tr>\n",
       "    <tr>\n",
       "      <th>130004</th>\n",
       "      <td>2</td>\n",
       "      <td>1</td>\n",
       "      <td>818.97</td>\n",
       "      <td>29.78</td>\n",
       "      <td>1</td>\n",
       "      <td>2.00</td>\n",
       "      <td>113</td>\n",
       "      <td>48</td>\n",
       "      <td>1</td>\n",
       "      <td>3.76</td>\n",
       "      <td>0.0</td>\n",
       "    </tr>\n",
       "    <tr>\n",
       "      <th>136405</th>\n",
       "      <td>2</td>\n",
       "      <td>1</td>\n",
       "      <td>788.13</td>\n",
       "      <td>17.29</td>\n",
       "      <td>1</td>\n",
       "      <td>1.36</td>\n",
       "      <td>186</td>\n",
       "      <td>161</td>\n",
       "      <td>1</td>\n",
       "      <td>2.46</td>\n",
       "      <td>0.0</td>\n",
       "    </tr>\n",
       "    <tr>\n",
       "      <th>142498</th>\n",
       "      <td>1</td>\n",
       "      <td>1</td>\n",
       "      <td>792.43</td>\n",
       "      <td>10.55</td>\n",
       "      <td>1</td>\n",
       "      <td>1.00</td>\n",
       "      <td>186</td>\n",
       "      <td>234</td>\n",
       "      <td>2</td>\n",
       "      <td>0.00</td>\n",
       "      <td>0.0</td>\n",
       "    </tr>\n",
       "    <tr>\n",
       "      <th>137742</th>\n",
       "      <td>2</td>\n",
       "      <td>1</td>\n",
       "      <td>809.48</td>\n",
       "      <td>0.07</td>\n",
       "      <td>1</td>\n",
       "      <td>0.00</td>\n",
       "      <td>132</td>\n",
       "      <td>132</td>\n",
       "      <td>1</td>\n",
       "      <td>0.00</td>\n",
       "      <td>0.0</td>\n",
       "    </tr>\n",
       "  </tbody>\n",
       "</table>\n",
       "</div>"
      ],
      "text/plain": [
       "        VendorID  pickup_day  minute_pickup  trip_duration  passenger_count  \\\n",
       "136358         1           1         818.32           8.80                1   \n",
       "130004         2           1         818.97          29.78                1   \n",
       "136405         2           1         788.13          17.29                1   \n",
       "142498         1           1         792.43          10.55                1   \n",
       "137742         2           1         809.48           0.07                1   \n",
       "\n",
       "        trip_distance  PULocationID  DOLocationID  payment_type  tip_amount  \\\n",
       "136358           1.30           125           261             1        1.75   \n",
       "130004           2.00           113            48             1        3.76   \n",
       "136405           1.36           186           161             1        2.46   \n",
       "142498           1.00           186           234             2        0.00   \n",
       "137742           0.00           132           132             1        0.00   \n",
       "\n",
       "        tolls_amount  \n",
       "136358           0.0  \n",
       "130004           0.0  \n",
       "136405           0.0  \n",
       "142498           0.0  \n",
       "137742           0.0  "
      ]
     },
     "execution_count": 23,
     "metadata": {},
     "output_type": "execute_result"
    }
   ],
   "source": [
    "Y= df10.fare_amount\n",
    "X= df10.drop(['total_amount', 'pickup_time', 'dropoff_time','store_and_fwd_flag','fare_amount','mta_tax', 'improvement_surcharge', 'extra','RatecodeID','minute_dropoff','dropoff_day'], axis=1)\n",
    "X_test, X_train, Y_test, Y_train = train_test_split(X, Y, test_size=0.3, random_state=123)\n",
    "X_test.head()"
   ]
  },
  {
   "cell_type": "code",
   "execution_count": 24,
   "metadata": {},
   "outputs": [],
   "source": [
    "X_train = sc.fit_transform(X_train)\n",
    "X_test = sc.transform(X_test)"
   ]
  },
  {
   "cell_type": "code",
   "execution_count": 25,
   "metadata": {},
   "outputs": [],
   "source": [
    "net= MLPRegressor(solver='sgd', max_iter=2500, hidden_layer_sizes=300)\n",
    "test= net.fit(X_train, Y_train)"
   ]
  },
  {
   "cell_type": "code",
   "execution_count": 26,
   "metadata": {},
   "outputs": [],
   "source": [
    "pred=net.predict(X_test)"
   ]
  },
  {
   "cell_type": "code",
   "execution_count": 27,
   "metadata": {},
   "outputs": [
    {
     "data": {
      "text/plain": [
       "0.22286450866161012"
      ]
     },
     "execution_count": 27,
     "metadata": {},
     "output_type": "execute_result"
    }
   ],
   "source": [
    "net.score(X_test, Y_test)"
   ]
  },
  {
   "cell_type": "code",
   "execution_count": 28,
   "metadata": {},
   "outputs": [
    {
     "data": {
      "text/plain": [
       "0.5129237521199951"
      ]
     },
     "execution_count": 28,
     "metadata": {},
     "output_type": "execute_result"
    }
   ],
   "source": [
    "skm.r2_score(pred, Y_test)"
   ]
  },
  {
   "cell_type": "code",
   "execution_count": 48,
   "metadata": {},
   "outputs": [],
   "source": [
    "df11=data.loc[146001:164000]"
   ]
  },
  {
   "cell_type": "code",
   "execution_count": 49,
   "metadata": {},
   "outputs": [
    {
     "data": {
      "text/html": [
       "<div>\n",
       "<style scoped>\n",
       "    .dataframe tbody tr th:only-of-type {\n",
       "        vertical-align: middle;\n",
       "    }\n",
       "\n",
       "    .dataframe tbody tr th {\n",
       "        vertical-align: top;\n",
       "    }\n",
       "\n",
       "    .dataframe thead th {\n",
       "        text-align: right;\n",
       "    }\n",
       "</style>\n",
       "<table border=\"1\" class=\"dataframe\">\n",
       "  <thead>\n",
       "    <tr style=\"text-align: right;\">\n",
       "      <th></th>\n",
       "      <th>VendorID</th>\n",
       "      <th>pickup_day</th>\n",
       "      <th>minute_pickup</th>\n",
       "      <th>trip_duration</th>\n",
       "      <th>passenger_count</th>\n",
       "      <th>trip_distance</th>\n",
       "      <th>PULocationID</th>\n",
       "      <th>DOLocationID</th>\n",
       "      <th>payment_type</th>\n",
       "      <th>tip_amount</th>\n",
       "      <th>tolls_amount</th>\n",
       "    </tr>\n",
       "  </thead>\n",
       "  <tbody>\n",
       "    <tr>\n",
       "      <th>157605</th>\n",
       "      <td>2</td>\n",
       "      <td>1</td>\n",
       "      <td>864.63</td>\n",
       "      <td>11.29</td>\n",
       "      <td>1</td>\n",
       "      <td>1.46</td>\n",
       "      <td>170</td>\n",
       "      <td>113</td>\n",
       "      <td>2</td>\n",
       "      <td>0.0</td>\n",
       "      <td>0.00</td>\n",
       "    </tr>\n",
       "    <tr>\n",
       "      <th>151232</th>\n",
       "      <td>1</td>\n",
       "      <td>1</td>\n",
       "      <td>866.52</td>\n",
       "      <td>20.36</td>\n",
       "      <td>1</td>\n",
       "      <td>2.10</td>\n",
       "      <td>238</td>\n",
       "      <td>163</td>\n",
       "      <td>1</td>\n",
       "      <td>4.4</td>\n",
       "      <td>0.00</td>\n",
       "    </tr>\n",
       "    <tr>\n",
       "      <th>153182</th>\n",
       "      <td>2</td>\n",
       "      <td>1</td>\n",
       "      <td>899.68</td>\n",
       "      <td>33.50</td>\n",
       "      <td>1</td>\n",
       "      <td>4.06</td>\n",
       "      <td>144</td>\n",
       "      <td>142</td>\n",
       "      <td>2</td>\n",
       "      <td>0.0</td>\n",
       "      <td>0.00</td>\n",
       "    </tr>\n",
       "    <tr>\n",
       "      <th>159098</th>\n",
       "      <td>2</td>\n",
       "      <td>1</td>\n",
       "      <td>852.12</td>\n",
       "      <td>10.03</td>\n",
       "      <td>1</td>\n",
       "      <td>1.36</td>\n",
       "      <td>231</td>\n",
       "      <td>249</td>\n",
       "      <td>2</td>\n",
       "      <td>0.0</td>\n",
       "      <td>0.00</td>\n",
       "    </tr>\n",
       "    <tr>\n",
       "      <th>153963</th>\n",
       "      <td>1</td>\n",
       "      <td>1</td>\n",
       "      <td>878.10</td>\n",
       "      <td>101.15</td>\n",
       "      <td>2</td>\n",
       "      <td>22.50</td>\n",
       "      <td>132</td>\n",
       "      <td>48</td>\n",
       "      <td>2</td>\n",
       "      <td>0.0</td>\n",
       "      <td>5.76</td>\n",
       "    </tr>\n",
       "  </tbody>\n",
       "</table>\n",
       "</div>"
      ],
      "text/plain": [
       "        VendorID  pickup_day  minute_pickup  trip_duration  passenger_count  \\\n",
       "157605         2           1         864.63          11.29                1   \n",
       "151232         1           1         866.52          20.36                1   \n",
       "153182         2           1         899.68          33.50                1   \n",
       "159098         2           1         852.12          10.03                1   \n",
       "153963         1           1         878.10         101.15                2   \n",
       "\n",
       "        trip_distance  PULocationID  DOLocationID  payment_type  tip_amount  \\\n",
       "157605           1.46           170           113             2         0.0   \n",
       "151232           2.10           238           163             1         4.4   \n",
       "153182           4.06           144           142             2         0.0   \n",
       "159098           1.36           231           249             2         0.0   \n",
       "153963          22.50           132            48             2         0.0   \n",
       "\n",
       "        tolls_amount  \n",
       "157605          0.00  \n",
       "151232          0.00  \n",
       "153182          0.00  \n",
       "159098          0.00  \n",
       "153963          5.76  "
      ]
     },
     "execution_count": 49,
     "metadata": {},
     "output_type": "execute_result"
    }
   ],
   "source": [
    "Y= df11.fare_amount\n",
    "X= df11.drop(['total_amount', 'pickup_time', 'dropoff_time','store_and_fwd_flag','fare_amount','mta_tax', 'improvement_surcharge', 'extra','RatecodeID','minute_dropoff','dropoff_day'], axis=1)\n",
    "X_test, X_train, Y_test, Y_train = train_test_split(X, Y, test_size=0.3, random_state=123)\n",
    "X_test.head()"
   ]
  },
  {
   "cell_type": "code",
   "execution_count": 51,
   "metadata": {},
   "outputs": [],
   "source": [
    "X_train = sc.fit_transform(X_train)\n",
    "X_test = sc.transform(X_test)"
   ]
  },
  {
   "cell_type": "code",
   "execution_count": 52,
   "metadata": {},
   "outputs": [],
   "source": [
    "net= MLPRegressor(solver='sgd', max_iter=2500, hidden_layer_sizes=300)\n",
    "test= net.fit(X_train, Y_train)"
   ]
  },
  {
   "cell_type": "code",
   "execution_count": 53,
   "metadata": {},
   "outputs": [],
   "source": [
    "pred=net.predict(X_test)"
   ]
  },
  {
   "cell_type": "code",
   "execution_count": 54,
   "metadata": {},
   "outputs": [
    {
     "data": {
      "text/plain": [
       "0.8801910490439734"
      ]
     },
     "execution_count": 54,
     "metadata": {},
     "output_type": "execute_result"
    }
   ],
   "source": [
    "net.score(X_test, Y_test)"
   ]
  },
  {
   "cell_type": "code",
   "execution_count": 55,
   "metadata": {},
   "outputs": [
    {
     "data": {
      "text/plain": [
       "0.8651030549783976"
      ]
     },
     "execution_count": 55,
     "metadata": {},
     "output_type": "execute_result"
    }
   ],
   "source": [
    "skm.r2_score(pred, Y_test)"
   ]
  },
  {
   "cell_type": "code",
   "execution_count": 56,
   "metadata": {},
   "outputs": [],
   "source": [
    "df12=data.loc[164001:179000]"
   ]
  },
  {
   "cell_type": "code",
   "execution_count": 57,
   "metadata": {},
   "outputs": [
    {
     "data": {
      "text/html": [
       "<div>\n",
       "<style scoped>\n",
       "    .dataframe tbody tr th:only-of-type {\n",
       "        vertical-align: middle;\n",
       "    }\n",
       "\n",
       "    .dataframe tbody tr th {\n",
       "        vertical-align: top;\n",
       "    }\n",
       "\n",
       "    .dataframe thead th {\n",
       "        text-align: right;\n",
       "    }\n",
       "</style>\n",
       "<table border=\"1\" class=\"dataframe\">\n",
       "  <thead>\n",
       "    <tr style=\"text-align: right;\">\n",
       "      <th></th>\n",
       "      <th>VendorID</th>\n",
       "      <th>pickup_day</th>\n",
       "      <th>minute_pickup</th>\n",
       "      <th>trip_duration</th>\n",
       "      <th>passenger_count</th>\n",
       "      <th>trip_distance</th>\n",
       "      <th>PULocationID</th>\n",
       "      <th>DOLocationID</th>\n",
       "      <th>payment_type</th>\n",
       "      <th>tip_amount</th>\n",
       "      <th>tolls_amount</th>\n",
       "    </tr>\n",
       "  </thead>\n",
       "  <tbody>\n",
       "    <tr>\n",
       "      <th>169243</th>\n",
       "      <td>2</td>\n",
       "      <td>1</td>\n",
       "      <td>943.15</td>\n",
       "      <td>4.00</td>\n",
       "      <td>5</td>\n",
       "      <td>0.63</td>\n",
       "      <td>79</td>\n",
       "      <td>79</td>\n",
       "      <td>1</td>\n",
       "      <td>0.0</td>\n",
       "      <td>0.0</td>\n",
       "    </tr>\n",
       "    <tr>\n",
       "      <th>176676</th>\n",
       "      <td>1</td>\n",
       "      <td>1</td>\n",
       "      <td>936.15</td>\n",
       "      <td>7.63</td>\n",
       "      <td>1</td>\n",
       "      <td>1.00</td>\n",
       "      <td>237</td>\n",
       "      <td>263</td>\n",
       "      <td>2</td>\n",
       "      <td>0.0</td>\n",
       "      <td>0.0</td>\n",
       "    </tr>\n",
       "    <tr>\n",
       "      <th>170925</th>\n",
       "      <td>2</td>\n",
       "      <td>1</td>\n",
       "      <td>906.50</td>\n",
       "      <td>13.03</td>\n",
       "      <td>1</td>\n",
       "      <td>1.39</td>\n",
       "      <td>161</td>\n",
       "      <td>234</td>\n",
       "      <td>1</td>\n",
       "      <td>1.0</td>\n",
       "      <td>0.0</td>\n",
       "    </tr>\n",
       "    <tr>\n",
       "      <th>176597</th>\n",
       "      <td>2</td>\n",
       "      <td>1</td>\n",
       "      <td>907.93</td>\n",
       "      <td>24.35</td>\n",
       "      <td>1</td>\n",
       "      <td>3.14</td>\n",
       "      <td>41</td>\n",
       "      <td>119</td>\n",
       "      <td>2</td>\n",
       "      <td>0.0</td>\n",
       "      <td>0.0</td>\n",
       "    </tr>\n",
       "    <tr>\n",
       "      <th>176570</th>\n",
       "      <td>2</td>\n",
       "      <td>1</td>\n",
       "      <td>919.72</td>\n",
       "      <td>8.76</td>\n",
       "      <td>1</td>\n",
       "      <td>0.87</td>\n",
       "      <td>237</td>\n",
       "      <td>237</td>\n",
       "      <td>2</td>\n",
       "      <td>0.0</td>\n",
       "      <td>0.0</td>\n",
       "    </tr>\n",
       "  </tbody>\n",
       "</table>\n",
       "</div>"
      ],
      "text/plain": [
       "        VendorID  pickup_day  minute_pickup  trip_duration  passenger_count  \\\n",
       "169243         2           1         943.15           4.00                5   \n",
       "176676         1           1         936.15           7.63                1   \n",
       "170925         2           1         906.50          13.03                1   \n",
       "176597         2           1         907.93          24.35                1   \n",
       "176570         2           1         919.72           8.76                1   \n",
       "\n",
       "        trip_distance  PULocationID  DOLocationID  payment_type  tip_amount  \\\n",
       "169243           0.63            79            79             1         0.0   \n",
       "176676           1.00           237           263             2         0.0   \n",
       "170925           1.39           161           234             1         1.0   \n",
       "176597           3.14            41           119             2         0.0   \n",
       "176570           0.87           237           237             2         0.0   \n",
       "\n",
       "        tolls_amount  \n",
       "169243           0.0  \n",
       "176676           0.0  \n",
       "170925           0.0  \n",
       "176597           0.0  \n",
       "176570           0.0  "
      ]
     },
     "execution_count": 57,
     "metadata": {},
     "output_type": "execute_result"
    }
   ],
   "source": [
    "Y= df12.fare_amount\n",
    "X= df12.drop(['total_amount', 'pickup_time', 'dropoff_time','store_and_fwd_flag','fare_amount','mta_tax', 'improvement_surcharge', 'extra','RatecodeID','minute_dropoff','dropoff_day'], axis=1)\n",
    "X_test, X_train, Y_test, Y_train = train_test_split(X, Y, test_size=0.3, random_state=123)\n",
    "X_test.head()"
   ]
  },
  {
   "cell_type": "code",
   "execution_count": 58,
   "metadata": {},
   "outputs": [],
   "source": [
    "X_train = sc.fit_transform(X_train)\n",
    "X_test = sc.transform(X_test)"
   ]
  },
  {
   "cell_type": "code",
   "execution_count": 59,
   "metadata": {},
   "outputs": [],
   "source": [
    "net= MLPRegressor(solver='sgd', max_iter=2500, hidden_layer_sizes=300)\n",
    "test= net.fit(X_train, Y_train)"
   ]
  },
  {
   "cell_type": "code",
   "execution_count": 60,
   "metadata": {},
   "outputs": [],
   "source": [
    "pred=net.predict(X_test)"
   ]
  },
  {
   "cell_type": "code",
   "execution_count": 61,
   "metadata": {},
   "outputs": [
    {
     "data": {
      "text/plain": [
       "0.8994861680563097"
      ]
     },
     "execution_count": 61,
     "metadata": {},
     "output_type": "execute_result"
    }
   ],
   "source": [
    "net.score(X_test, Y_test)"
   ]
  },
  {
   "cell_type": "code",
   "execution_count": 62,
   "metadata": {},
   "outputs": [
    {
     "data": {
      "text/plain": [
       "0.8892636919188017"
      ]
     },
     "execution_count": 62,
     "metadata": {},
     "output_type": "execute_result"
    }
   ],
   "source": [
    "skm.r2_score(pred, Y_test)"
   ]
  },
  {
   "cell_type": "code",
   "execution_count": 63,
   "metadata": {},
   "outputs": [],
   "source": [
    "df13=data.loc[179001:199000]"
   ]
  },
  {
   "cell_type": "code",
   "execution_count": 64,
   "metadata": {},
   "outputs": [
    {
     "data": {
      "text/html": [
       "<div>\n",
       "<style scoped>\n",
       "    .dataframe tbody tr th:only-of-type {\n",
       "        vertical-align: middle;\n",
       "    }\n",
       "\n",
       "    .dataframe tbody tr th {\n",
       "        vertical-align: top;\n",
       "    }\n",
       "\n",
       "    .dataframe thead th {\n",
       "        text-align: right;\n",
       "    }\n",
       "</style>\n",
       "<table border=\"1\" class=\"dataframe\">\n",
       "  <thead>\n",
       "    <tr style=\"text-align: right;\">\n",
       "      <th></th>\n",
       "      <th>VendorID</th>\n",
       "      <th>pickup_day</th>\n",
       "      <th>minute_pickup</th>\n",
       "      <th>trip_duration</th>\n",
       "      <th>passenger_count</th>\n",
       "      <th>trip_distance</th>\n",
       "      <th>PULocationID</th>\n",
       "      <th>DOLocationID</th>\n",
       "      <th>payment_type</th>\n",
       "      <th>tip_amount</th>\n",
       "      <th>tolls_amount</th>\n",
       "    </tr>\n",
       "  </thead>\n",
       "  <tbody>\n",
       "    <tr>\n",
       "      <th>187660</th>\n",
       "      <td>2</td>\n",
       "      <td>1</td>\n",
       "      <td>1005.40</td>\n",
       "      <td>2.25</td>\n",
       "      <td>1</td>\n",
       "      <td>0.5</td>\n",
       "      <td>236</td>\n",
       "      <td>237</td>\n",
       "      <td>1</td>\n",
       "      <td>1.16</td>\n",
       "      <td>0.0</td>\n",
       "    </tr>\n",
       "    <tr>\n",
       "      <th>191632</th>\n",
       "      <td>1</td>\n",
       "      <td>1</td>\n",
       "      <td>1077.68</td>\n",
       "      <td>16.30</td>\n",
       "      <td>2</td>\n",
       "      <td>1.8</td>\n",
       "      <td>164</td>\n",
       "      <td>249</td>\n",
       "      <td>1</td>\n",
       "      <td>2.65</td>\n",
       "      <td>0.0</td>\n",
       "    </tr>\n",
       "    <tr>\n",
       "      <th>188580</th>\n",
       "      <td>1</td>\n",
       "      <td>1</td>\n",
       "      <td>998.47</td>\n",
       "      <td>13.06</td>\n",
       "      <td>1</td>\n",
       "      <td>2.0</td>\n",
       "      <td>230</td>\n",
       "      <td>239</td>\n",
       "      <td>2</td>\n",
       "      <td>0.00</td>\n",
       "      <td>0.0</td>\n",
       "    </tr>\n",
       "    <tr>\n",
       "      <th>185253</th>\n",
       "      <td>2</td>\n",
       "      <td>1</td>\n",
       "      <td>977.63</td>\n",
       "      <td>3.20</td>\n",
       "      <td>1</td>\n",
       "      <td>0.7</td>\n",
       "      <td>263</td>\n",
       "      <td>141</td>\n",
       "      <td>2</td>\n",
       "      <td>0.00</td>\n",
       "      <td>0.0</td>\n",
       "    </tr>\n",
       "    <tr>\n",
       "      <th>190928</th>\n",
       "      <td>1</td>\n",
       "      <td>1</td>\n",
       "      <td>979.63</td>\n",
       "      <td>26.85</td>\n",
       "      <td>1</td>\n",
       "      <td>1.9</td>\n",
       "      <td>144</td>\n",
       "      <td>234</td>\n",
       "      <td>2</td>\n",
       "      <td>0.00</td>\n",
       "      <td>0.0</td>\n",
       "    </tr>\n",
       "  </tbody>\n",
       "</table>\n",
       "</div>"
      ],
      "text/plain": [
       "        VendorID  pickup_day  minute_pickup  trip_duration  passenger_count  \\\n",
       "187660         2           1        1005.40           2.25                1   \n",
       "191632         1           1        1077.68          16.30                2   \n",
       "188580         1           1         998.47          13.06                1   \n",
       "185253         2           1         977.63           3.20                1   \n",
       "190928         1           1         979.63          26.85                1   \n",
       "\n",
       "        trip_distance  PULocationID  DOLocationID  payment_type  tip_amount  \\\n",
       "187660            0.5           236           237             1        1.16   \n",
       "191632            1.8           164           249             1        2.65   \n",
       "188580            2.0           230           239             2        0.00   \n",
       "185253            0.7           263           141             2        0.00   \n",
       "190928            1.9           144           234             2        0.00   \n",
       "\n",
       "        tolls_amount  \n",
       "187660           0.0  \n",
       "191632           0.0  \n",
       "188580           0.0  \n",
       "185253           0.0  \n",
       "190928           0.0  "
      ]
     },
     "execution_count": 64,
     "metadata": {},
     "output_type": "execute_result"
    }
   ],
   "source": [
    "Y= df13.fare_amount\n",
    "X= df13.drop(['total_amount', 'pickup_time', 'dropoff_time','store_and_fwd_flag','fare_amount','mta_tax', 'improvement_surcharge', 'extra','RatecodeID','minute_dropoff','dropoff_day'], axis=1)\n",
    "X_test, X_train, Y_test, Y_train = train_test_split(X, Y, test_size=0.3, random_state=123)\n",
    "X_test.head()"
   ]
  },
  {
   "cell_type": "code",
   "execution_count": 65,
   "metadata": {},
   "outputs": [],
   "source": [
    "X_train = sc.fit_transform(X_train)\n",
    "X_test = sc.transform(X_test)"
   ]
  },
  {
   "cell_type": "code",
   "execution_count": 66,
   "metadata": {},
   "outputs": [],
   "source": [
    "net= MLPRegressor(solver='sgd', max_iter=2500, hidden_layer_sizes=300)\n",
    "test= net.fit(X_train, Y_train)"
   ]
  },
  {
   "cell_type": "code",
   "execution_count": 67,
   "metadata": {},
   "outputs": [],
   "source": [
    "pred=net.predict(X_test)"
   ]
  },
  {
   "cell_type": "code",
   "execution_count": 68,
   "metadata": {},
   "outputs": [
    {
     "data": {
      "text/plain": [
       "0.9072205823798998"
      ]
     },
     "execution_count": 68,
     "metadata": {},
     "output_type": "execute_result"
    }
   ],
   "source": [
    "net.score(X_test, Y_test)"
   ]
  },
  {
   "cell_type": "code",
   "execution_count": 69,
   "metadata": {},
   "outputs": [
    {
     "data": {
      "text/plain": [
       "0.8971636850942237"
      ]
     },
     "execution_count": 69,
     "metadata": {},
     "output_type": "execute_result"
    }
   ],
   "source": [
    "skm.r2_score(pred, Y_test)"
   ]
  },
  {
   "cell_type": "code",
   "execution_count": 70,
   "metadata": {},
   "outputs": [],
   "source": [
    "df14=data.loc[199001:215000]"
   ]
  },
  {
   "cell_type": "code",
   "execution_count": 71,
   "metadata": {},
   "outputs": [
    {
     "data": {
      "text/html": [
       "<div>\n",
       "<style scoped>\n",
       "    .dataframe tbody tr th:only-of-type {\n",
       "        vertical-align: middle;\n",
       "    }\n",
       "\n",
       "    .dataframe tbody tr th {\n",
       "        vertical-align: top;\n",
       "    }\n",
       "\n",
       "    .dataframe thead th {\n",
       "        text-align: right;\n",
       "    }\n",
       "</style>\n",
       "<table border=\"1\" class=\"dataframe\">\n",
       "  <thead>\n",
       "    <tr style=\"text-align: right;\">\n",
       "      <th></th>\n",
       "      <th>VendorID</th>\n",
       "      <th>pickup_day</th>\n",
       "      <th>minute_pickup</th>\n",
       "      <th>trip_duration</th>\n",
       "      <th>passenger_count</th>\n",
       "      <th>trip_distance</th>\n",
       "      <th>PULocationID</th>\n",
       "      <th>DOLocationID</th>\n",
       "      <th>payment_type</th>\n",
       "      <th>tip_amount</th>\n",
       "      <th>tolls_amount</th>\n",
       "    </tr>\n",
       "  </thead>\n",
       "  <tbody>\n",
       "    <tr>\n",
       "      <th>205358</th>\n",
       "      <td>2</td>\n",
       "      <td>1</td>\n",
       "      <td>1033.45</td>\n",
       "      <td>6.97</td>\n",
       "      <td>1</td>\n",
       "      <td>0.47</td>\n",
       "      <td>234</td>\n",
       "      <td>164</td>\n",
       "      <td>2</td>\n",
       "      <td>0.00</td>\n",
       "      <td>0.0</td>\n",
       "    </tr>\n",
       "    <tr>\n",
       "      <th>199004</th>\n",
       "      <td>2</td>\n",
       "      <td>1</td>\n",
       "      <td>1052.37</td>\n",
       "      <td>70.58</td>\n",
       "      <td>2</td>\n",
       "      <td>12.76</td>\n",
       "      <td>138</td>\n",
       "      <td>88</td>\n",
       "      <td>1</td>\n",
       "      <td>10.56</td>\n",
       "      <td>0.0</td>\n",
       "    </tr>\n",
       "    <tr>\n",
       "      <th>205405</th>\n",
       "      <td>2</td>\n",
       "      <td>1</td>\n",
       "      <td>1067.62</td>\n",
       "      <td>32.85</td>\n",
       "      <td>1</td>\n",
       "      <td>3.82</td>\n",
       "      <td>230</td>\n",
       "      <td>231</td>\n",
       "      <td>2</td>\n",
       "      <td>0.00</td>\n",
       "      <td>0.0</td>\n",
       "    </tr>\n",
       "    <tr>\n",
       "      <th>211498</th>\n",
       "      <td>2</td>\n",
       "      <td>1</td>\n",
       "      <td>1130.20</td>\n",
       "      <td>35.07</td>\n",
       "      <td>2</td>\n",
       "      <td>8.18</td>\n",
       "      <td>234</td>\n",
       "      <td>42</td>\n",
       "      <td>1</td>\n",
       "      <td>6.46</td>\n",
       "      <td>0.0</td>\n",
       "    </tr>\n",
       "    <tr>\n",
       "      <th>206742</th>\n",
       "      <td>2</td>\n",
       "      <td>1</td>\n",
       "      <td>1021.27</td>\n",
       "      <td>11.03</td>\n",
       "      <td>1</td>\n",
       "      <td>1.47</td>\n",
       "      <td>163</td>\n",
       "      <td>239</td>\n",
       "      <td>1</td>\n",
       "      <td>2.16</td>\n",
       "      <td>0.0</td>\n",
       "    </tr>\n",
       "  </tbody>\n",
       "</table>\n",
       "</div>"
      ],
      "text/plain": [
       "        VendorID  pickup_day  minute_pickup  trip_duration  passenger_count  \\\n",
       "205358         2           1        1033.45           6.97                1   \n",
       "199004         2           1        1052.37          70.58                2   \n",
       "205405         2           1        1067.62          32.85                1   \n",
       "211498         2           1        1130.20          35.07                2   \n",
       "206742         2           1        1021.27          11.03                1   \n",
       "\n",
       "        trip_distance  PULocationID  DOLocationID  payment_type  tip_amount  \\\n",
       "205358           0.47           234           164             2        0.00   \n",
       "199004          12.76           138            88             1       10.56   \n",
       "205405           3.82           230           231             2        0.00   \n",
       "211498           8.18           234            42             1        6.46   \n",
       "206742           1.47           163           239             1        2.16   \n",
       "\n",
       "        tolls_amount  \n",
       "205358           0.0  \n",
       "199004           0.0  \n",
       "205405           0.0  \n",
       "211498           0.0  \n",
       "206742           0.0  "
      ]
     },
     "execution_count": 71,
     "metadata": {},
     "output_type": "execute_result"
    }
   ],
   "source": [
    "Y= df14.fare_amount\n",
    "X= df14.drop(['total_amount', 'pickup_time', 'dropoff_time','store_and_fwd_flag','fare_amount','mta_tax', 'improvement_surcharge', 'extra','RatecodeID','minute_dropoff','dropoff_day'], axis=1)\n",
    "X_test, X_train, Y_test, Y_train = train_test_split(X, Y, test_size=0.3, random_state=123)\n",
    "X_test.head()"
   ]
  },
  {
   "cell_type": "code",
   "execution_count": 72,
   "metadata": {},
   "outputs": [],
   "source": [
    "X_train = sc.fit_transform(X_train)\n",
    "X_test = sc.transform(X_test)"
   ]
  },
  {
   "cell_type": "code",
   "execution_count": 73,
   "metadata": {},
   "outputs": [],
   "source": [
    "net= MLPRegressor(solver='sgd', max_iter=2500, hidden_layer_sizes=300)\n",
    "test= net.fit(X_train, Y_train)"
   ]
  },
  {
   "cell_type": "code",
   "execution_count": 74,
   "metadata": {},
   "outputs": [],
   "source": [
    "pred=net.predict(X_test)"
   ]
  },
  {
   "cell_type": "code",
   "execution_count": 75,
   "metadata": {},
   "outputs": [
    {
     "data": {
      "text/plain": [
       "0.7967239834836015"
      ]
     },
     "execution_count": 75,
     "metadata": {},
     "output_type": "execute_result"
    }
   ],
   "source": [
    "net.score(X_test, Y_test)"
   ]
  },
  {
   "cell_type": "code",
   "execution_count": 76,
   "metadata": {},
   "outputs": [
    {
     "data": {
      "text/plain": [
       "0.8032374332615675"
      ]
     },
     "execution_count": 76,
     "metadata": {},
     "output_type": "execute_result"
    }
   ],
   "source": [
    "skm.r2_score(pred, Y_test)"
   ]
  },
  {
   "cell_type": "code",
   "execution_count": 95,
   "metadata": {},
   "outputs": [],
   "source": [
    "from sklearn.decomposition import PCA"
   ]
  },
  {
   "cell_type": "code",
   "execution_count": 96,
   "metadata": {},
   "outputs": [
    {
     "data": {
      "text/html": [
       "<div>\n",
       "<style scoped>\n",
       "    .dataframe tbody tr th:only-of-type {\n",
       "        vertical-align: middle;\n",
       "    }\n",
       "\n",
       "    .dataframe tbody tr th {\n",
       "        vertical-align: top;\n",
       "    }\n",
       "\n",
       "    .dataframe thead th {\n",
       "        text-align: right;\n",
       "    }\n",
       "</style>\n",
       "<table border=\"1\" class=\"dataframe\">\n",
       "  <thead>\n",
       "    <tr style=\"text-align: right;\">\n",
       "      <th></th>\n",
       "      <th>VendorID</th>\n",
       "      <th>pickup_day</th>\n",
       "      <th>minute_pickup</th>\n",
       "      <th>trip_duration</th>\n",
       "      <th>passenger_count</th>\n",
       "      <th>trip_distance</th>\n",
       "      <th>PULocationID</th>\n",
       "      <th>DOLocationID</th>\n",
       "      <th>payment_type</th>\n",
       "      <th>fare_amount</th>\n",
       "      <th>tip_amount</th>\n",
       "      <th>tolls_amount</th>\n",
       "    </tr>\n",
       "  </thead>\n",
       "  <tbody>\n",
       "    <tr>\n",
       "      <th>639573</th>\n",
       "      <td>2</td>\n",
       "      <td>3</td>\n",
       "      <td>51.32</td>\n",
       "      <td>6.75</td>\n",
       "      <td>1</td>\n",
       "      <td>1.47</td>\n",
       "      <td>237</td>\n",
       "      <td>161</td>\n",
       "      <td>2</td>\n",
       "      <td>7.0</td>\n",
       "      <td>0.00</td>\n",
       "      <td>0.00</td>\n",
       "    </tr>\n",
       "    <tr>\n",
       "      <th>990940</th>\n",
       "      <td>2</td>\n",
       "      <td>4</td>\n",
       "      <td>747.93</td>\n",
       "      <td>40.39</td>\n",
       "      <td>2</td>\n",
       "      <td>10.82</td>\n",
       "      <td>138</td>\n",
       "      <td>230</td>\n",
       "      <td>1</td>\n",
       "      <td>37.5</td>\n",
       "      <td>8.81</td>\n",
       "      <td>5.76</td>\n",
       "    </tr>\n",
       "    <tr>\n",
       "      <th>88110</th>\n",
       "      <td>1</td>\n",
       "      <td>1</td>\n",
       "      <td>626.17</td>\n",
       "      <td>2.10</td>\n",
       "      <td>1</td>\n",
       "      <td>0.50</td>\n",
       "      <td>229</td>\n",
       "      <td>233</td>\n",
       "      <td>2</td>\n",
       "      <td>3.5</td>\n",
       "      <td>0.00</td>\n",
       "      <td>0.00</td>\n",
       "    </tr>\n",
       "    <tr>\n",
       "      <th>415098</th>\n",
       "      <td>1</td>\n",
       "      <td>2</td>\n",
       "      <td>705.43</td>\n",
       "      <td>31.35</td>\n",
       "      <td>0</td>\n",
       "      <td>4.20</td>\n",
       "      <td>48</td>\n",
       "      <td>144</td>\n",
       "      <td>2</td>\n",
       "      <td>20.5</td>\n",
       "      <td>0.00</td>\n",
       "      <td>0.00</td>\n",
       "    </tr>\n",
       "    <tr>\n",
       "      <th>1046148</th>\n",
       "      <td>2</td>\n",
       "      <td>4</td>\n",
       "      <td>948.42</td>\n",
       "      <td>9.30</td>\n",
       "      <td>1</td>\n",
       "      <td>1.55</td>\n",
       "      <td>170</td>\n",
       "      <td>79</td>\n",
       "      <td>1</td>\n",
       "      <td>7.5</td>\n",
       "      <td>2.49</td>\n",
       "      <td>0.00</td>\n",
       "    </tr>\n",
       "  </tbody>\n",
       "</table>\n",
       "</div>"
      ],
      "text/plain": [
       "         VendorID  pickup_day  minute_pickup  trip_duration  passenger_count  \\\n",
       "639573          2           3          51.32           6.75                1   \n",
       "990940          2           4         747.93          40.39                2   \n",
       "88110           1           1         626.17           2.10                1   \n",
       "415098          1           2         705.43          31.35                0   \n",
       "1046148         2           4         948.42           9.30                1   \n",
       "\n",
       "         trip_distance  PULocationID  DOLocationID  payment_type  fare_amount  \\\n",
       "639573            1.47           237           161             2          7.0   \n",
       "990940           10.82           138           230             1         37.5   \n",
       "88110             0.50           229           233             2          3.5   \n",
       "415098            4.20            48           144             2         20.5   \n",
       "1046148           1.55           170            79             1          7.5   \n",
       "\n",
       "         tip_amount  tolls_amount  \n",
       "639573         0.00          0.00  \n",
       "990940         8.81          5.76  \n",
       "88110          0.00          0.00  \n",
       "415098         0.00          0.00  \n",
       "1046148        2.49          0.00  "
      ]
     },
     "execution_count": 96,
     "metadata": {},
     "output_type": "execute_result"
    }
   ],
   "source": [
    "#y= data.fare_amount\n",
    "x= data.drop(['total_amount', 'pickup_time', 'dropoff_time','store_and_fwd_flag','date', 'mta_tax', 'improvement_surcharge', 'extra','RatecodeID','minute_dropoff','dropoff_day'], axis=1)\n",
    "x_test, x_train, y_test, y_train = train_test_split(x, y, test_size=0.3, random_state=123)\n",
    "x_test.head()\n"
   ]
  },
  {
   "cell_type": "code",
   "execution_count": 97,
   "metadata": {},
   "outputs": [],
   "source": [
    "x_train = sc.fit_transform(x_train)\n",
    "x_test = sc.transform(x_test)"
   ]
  },
  {
   "cell_type": "code",
   "execution_count": 98,
   "metadata": {},
   "outputs": [],
   "source": [
    "pca=PCA()\n",
    "x_train=pca.fit_transform(x_train)\n",
    "x_test=pca.transform(x_test)"
   ]
  },
  {
   "cell_type": "code",
   "execution_count": 99,
   "metadata": {},
   "outputs": [
    {
     "name": "stdout",
     "output_type": "stream",
     "text": [
      "[0.20584967 0.10369496 0.10299204 0.09970479 0.08899729 0.08373326\n",
      " 0.07406369 0.06416269 0.0635642  0.05522381 0.0339149  0.0240987 ]\n"
     ]
    }
   ],
   "source": [
    "explained_variance = pca.explained_variance_ratio_\n",
    "print(explained_variance)"
   ]
  },
  {
   "cell_type": "code",
   "execution_count": 100,
   "metadata": {},
   "outputs": [
    {
     "name": "stdout",
     "output_type": "stream",
     "text": [
      "[881.5083622  625.64817107 623.52401114 613.49262564 579.61514538\n",
      " 562.21228688 528.75443236 492.14447896 489.8438318  456.57751282\n",
      " 357.80517747 301.61170277]\n"
     ]
    }
   ],
   "source": [
    "print(pca.singular_values_)"
   ]
  },
  {
   "cell_type": "code",
   "execution_count": 88,
   "metadata": {},
   "outputs": [
    {
     "data": {
      "text/plain": [
       "array([[ 1.05997116e+00, -7.26177968e-03,  4.19723221e-03,\n",
       "         4.77830952e-03, -2.47628050e-01, -3.35057474e-02,\n",
       "         1.75911431e-02,  7.09672964e-03,  3.77837882e-02,\n",
       "         8.64987250e-04,  2.32072041e-02, -1.45353727e-03],\n",
       "       [-7.26177968e-03,  1.02868199e+00,  1.70194147e-01,\n",
       "         3.31436301e-02,  2.82752284e-03, -2.52174564e-02,\n",
       "        -7.39396380e-03, -4.43130175e-03, -6.62896903e-03,\n",
       "         4.20708995e-03, -1.63346115e-03, -1.46113897e-02],\n",
       "       [ 4.19723221e-03,  1.70194147e-01,  1.05689559e+00,\n",
       "         1.68332095e-01, -1.24103571e-02,  4.28827679e-02,\n",
       "        -3.12500059e-02, -2.69776343e-02, -2.29390366e-02,\n",
       "        -1.17355330e-02, -3.57868963e-02, -1.92782099e-02],\n",
       "       [ 4.77830952e-03,  3.31436301e-02,  1.68332095e-01,\n",
       "         1.02761705e+00,  2.20007513e-05,  1.98775916e-02,\n",
       "        -1.30388124e-02, -1.22787366e-02, -1.10111188e-02,\n",
       "        -8.65241702e-03, -9.93446824e-03, -2.88277138e-02],\n",
       "       [-2.47628050e-01,  2.82752284e-03, -1.24103571e-02,\n",
       "         2.20007513e-05,  1.05831047e+00, -1.10386370e-02,\n",
       "        -1.83635672e-03,  1.73087149e-03, -1.09811215e-02,\n",
       "         1.39199681e-03,  7.06181337e-03, -2.78633836e-03],\n",
       "       [-3.35057474e-02, -2.52174564e-02,  4.28827679e-02,\n",
       "         1.98775916e-02, -1.10386370e-02,  2.20687564e+00,\n",
       "         7.86948535e-02,  7.96979408e-02, -3.26045707e-01,\n",
       "        -7.95207708e-01, -8.17273939e-01, -5.71921654e-01],\n",
       "       [ 1.75911431e-02, -7.39396380e-03, -3.12500059e-02,\n",
       "        -1.30388124e-02, -1.83635672e-03,  7.86948535e-02,\n",
       "         1.01957155e+00, -1.04863570e-01,  1.95726804e-02,\n",
       "        -1.18041581e-03,  3.85278879e-03, -1.05014205e-02],\n",
       "       [ 7.09672964e-03, -4.43130175e-03, -2.69776343e-02,\n",
       "        -1.22787366e-02,  1.73087149e-03,  7.96979408e-02,\n",
       "        -1.04863570e-01,  1.02092931e+00,  3.07626906e-02,\n",
       "         5.38629899e-03,  8.36967754e-03, -5.00311446e-03],\n",
       "       [ 3.77837882e-02, -6.62896903e-03, -2.29390366e-02,\n",
       "        -1.10111188e-02, -1.09811215e-02, -3.26045707e-01,\n",
       "         1.95726804e-02,  3.07626906e-02,  1.42858608e+00,\n",
       "        -6.08042153e-02,  9.36542146e-01, -1.32333297e-01],\n",
       "       [ 8.64987250e-04,  4.20708995e-03, -1.17355330e-02,\n",
       "        -8.65241702e-03,  1.39199681e-03, -7.95207708e-01,\n",
       "        -1.18041581e-03,  5.38629899e-03, -6.08042153e-02,\n",
       "         1.53464374e+00, -1.52936071e-01, -4.32696662e-02],\n",
       "       [ 2.32072041e-02, -1.63346115e-03, -3.57868963e-02,\n",
       "        -9.93446824e-03,  7.06181337e-03, -8.17273939e-01,\n",
       "         3.85278879e-03,  8.36967754e-03,  9.36542146e-01,\n",
       "        -1.52936071e-01,  2.06788172e+00, -3.07243623e-01],\n",
       "       [-1.45353727e-03, -1.46113897e-02, -1.92782099e-02,\n",
       "        -2.88277138e-02, -2.78633836e-03, -5.71921654e-01,\n",
       "        -1.05014205e-02, -5.00311446e-03, -1.32333297e-01,\n",
       "        -4.32696662e-02, -3.07243623e-01,  1.43404910e+00]])"
      ]
     },
     "execution_count": 88,
     "metadata": {},
     "output_type": "execute_result"
    }
   ],
   "source": [
    "pca.get_precision()"
   ]
  },
  {
   "cell_type": "code",
   "execution_count": 89,
   "metadata": {},
   "outputs": [
    {
     "data": {
      "text/plain": [
       "-445747.0783526638"
      ]
     },
     "execution_count": 89,
     "metadata": {},
     "output_type": "execute_result"
    }
   ],
   "source": [
    "pca.score(x,y)"
   ]
  },
  {
   "cell_type": "code",
   "execution_count": 90,
   "metadata": {},
   "outputs": [],
   "source": [
    "x=pca.inverse_transform(x)\n",
    "x=sc.inverse_transform(x)"
   ]
  },
  {
   "cell_type": "code",
   "execution_count": 57,
   "metadata": {},
   "outputs": [],
   "source": [
    "from sklearn.metrics import mean_squared_error\n",
    "from sklearn.metrics import r2_score"
   ]
  },
  {
   "cell_type": "code",
   "execution_count": 91,
   "metadata": {},
   "outputs": [
    {
     "name": "stdout",
     "output_type": "stream",
     "text": [
      "Coefficients: [-2.45198655e-02  4.71814533e-02  1.78158554e-04  4.55094397e-04\n",
      "  8.46332119e-03  1.77550181e-02  1.94277293e-04  1.97100895e-04\n",
      " -9.47283776e-02  3.55778239e-02 -1.50723706e-02 -4.08645353e-01]\n",
      "Intercept: -0.5089618249305818\n",
      "MSE: 5.031416391956683e-25\n",
      "R^2: 1.0\n"
     ]
    }
   ],
   "source": [
    "model = linear_model.LinearRegression()\n",
    "model.fit(x,y)\n",
    "y_hat = model.predict(x)\n",
    "\n",
    "#print (boston.feature_names)\n",
    "print (\"Coefficients:\", model.coef_)\n",
    "print (\"Intercept:\", model.intercept_)\n",
    "print (\"MSE:\", mean_squared_error(y_hat, y))\n",
    "print (\"R^2:\", r2_score(y_hat, y))"
   ]
  },
  {
   "cell_type": "code",
   "execution_count": 59,
   "metadata": {},
   "outputs": [
    {
     "data": {
      "text/plain": [
       "array([[ 1.50619640e+00,  3.13974411e+00,  8.21621739e+02, ...,\n",
       "         1.09001957e+00,  2.36488005e+00,  6.77132226e-01],\n",
       "       [ 1.78602601e+00,  2.62739030e+00,  9.29135246e+02, ...,\n",
       "         1.23969936e+00,  3.46262864e+00, -2.26771826e-01],\n",
       "       [ 1.57458538e+00,  2.49295431e+00,  7.92134444e+02, ...,\n",
       "         9.67786164e-01,  3.50262303e+00,  1.09768321e+00],\n",
       "       ...,\n",
       "       [ 1.88337246e+00,  2.83686151e+00,  9.35837724e+02, ...,\n",
       "         5.77907534e-01,  7.79704405e-02,  2.95080017e+00],\n",
       "       [ 1.83052778e+00,  1.88159757e+00, -6.22043183e+02, ...,\n",
       "         1.56283978e+00,  2.09599391e+00,  1.40893295e+00],\n",
       "       [ 1.92491805e+00,  3.27766408e+00,  7.34077301e+02, ...,\n",
       "         1.25718783e+00,  8.98315198e-01,  1.19514819e+00]])"
      ]
     },
     "execution_count": 59,
     "metadata": {},
     "output_type": "execute_result"
    }
   ],
   "source": [
    "x"
   ]
  },
  {
   "cell_type": "code",
   "execution_count": null,
   "metadata": {},
   "outputs": [],
   "source": []
  }
 ],
 "metadata": {
  "kernelspec": {
   "display_name": "Python 3",
   "language": "python",
   "name": "python3"
  },
  "language_info": {
   "codemirror_mode": {
    "name": "ipython",
    "version": 3
   },
   "file_extension": ".py",
   "mimetype": "text/x-python",
   "name": "python",
   "nbconvert_exporter": "python",
   "pygments_lexer": "ipython3",
   "version": "3.6.5"
  }
 },
 "nbformat": 4,
 "nbformat_minor": 2
}
